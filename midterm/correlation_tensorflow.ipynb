{
 "cells": [
  {
   "cell_type": "code",
   "execution_count": 5,
   "metadata": {
    "collapsed": false
   },
   "outputs": [],
   "source": [
    "import pandas as pd\n",
    "import numpy as np\n",
    "import seaborn as sns\n",
    "import matplotlib as mpl\n",
    "import matplotlib.pyplot as plt\n",
    "\n",
    "from sklearn.model_selection import GridSearchCV\n",
    "\n",
    "%matplotlib inline"
   ]
  },
  {
   "cell_type": "markdown",
   "metadata": {},
   "source": [
    "# Read Data"
   ]
  },
  {
   "cell_type": "code",
   "execution_count": 6,
   "metadata": {
    "collapsed": true
   },
   "outputs": [],
   "source": [
    "train = pd.read_csv('train.csv')\n",
    "test = pd.read_csv('test.csv')"
   ]
  },
  {
   "cell_type": "code",
   "execution_count": 7,
   "metadata": {
    "collapsed": true
   },
   "outputs": [],
   "source": [
    "# Fill NA values with the mean\n",
    "train = train.fillna(train.mean())\n",
    "test = test.fillna(train.mean())"
   ]
  },
  {
   "cell_type": "code",
   "execution_count": 8,
   "metadata": {
    "collapsed": true
   },
   "outputs": [],
   "source": [
    "# Split into X and y\n",
    "X_train = train.drop(['id', 'Y'], axis=1)\n",
    "y_train = train['Y']\n",
    "\n",
    "X_test = test.drop(['id'], axis=1)"
   ]
  },
  {
   "cell_type": "markdown",
   "metadata": {},
   "source": [
    "# Helper Functions"
   ]
  },
  {
   "cell_type": "code",
   "execution_count": 15,
   "metadata": {
    "collapsed": true
   },
   "outputs": [],
   "source": [
    "def to_file(filename, ids, preds):\n",
    "    with open(filename, 'w') as f:\n",
    "        f.write('id,Y\\n')\n",
    "        for num, pred in zip(ids, preds):\n",
    "            f.write('{},{}\\n'.format(num, pred))"
   ]
  },
  {
   "cell_type": "code",
   "execution_count": 9,
   "metadata": {
    "collapsed": true
   },
   "outputs": [],
   "source": [
    "def print_cv_results(model):\n",
    "    print(\"Best parameter set found:\\n\")\n",
    "    print(model.best_params_)\n",
    "    print()\n",
    "    for params, mean_score, scores in model.grid_scores_:\n",
    "        print(\"{0:.3f} (+/-{1:.03f}) for {2}\".format(mean_score, scores.std() * 2, params))\n",
    "    print()"
   ]
  },
  {
   "cell_type": "markdown",
   "metadata": {},
   "source": [
    "# TensorFlow"
   ]
  },
  {
   "cell_type": "code",
   "execution_count": 14,
   "metadata": {
    "collapsed": false
   },
   "outputs": [
    {
     "name": "stderr",
     "output_type": "stream",
     "text": [
      "/Users/rohannagar/anaconda/lib/python3.5/site-packages/skflow/io/data_feeder.py:217: VisibleDeprecationWarning: using a non-integer number instead of an integer will result in an error in the future\n",
      "  out.itemset((i, self.y[sample]), 1.0)\n",
      "/Users/rohannagar/anaconda/lib/python3.5/site-packages/sklearn/model_selection/_search.py:662: DeprecationWarning: The grid_scores_ attribute was deprecated in version 0.18 in favor of the more elaborate cv_results_ attribute. The grid_scores_ attribute will not be available from 0.20\n",
      "  DeprecationWarning)\n",
      "/Users/rohannagar/anaconda/lib/python3.5/site-packages/skflow/io/data_feeder.py:217: VisibleDeprecationWarning: using a non-integer number instead of an integer will result in an error in the future\n",
      "  out.itemset((i, self.y[sample]), 1.0)\n",
      "/Users/rohannagar/anaconda/lib/python3.5/site-packages/skflow/io/data_feeder.py:217: VisibleDeprecationWarning: using a non-integer number instead of an integer will result in an error in the future\n",
      "  out.itemset((i, self.y[sample]), 1.0)\n",
      "/Users/rohannagar/anaconda/lib/python3.5/site-packages/skflow/io/data_feeder.py:217: VisibleDeprecationWarning: using a non-integer number instead of an integer will result in an error in the future\n",
      "  out.itemset((i, self.y[sample]), 1.0)\n",
      "/Users/rohannagar/anaconda/lib/python3.5/site-packages/skflow/io/data_feeder.py:217: VisibleDeprecationWarning: using a non-integer number instead of an integer will result in an error in the future\n",
      "  out.itemset((i, self.y[sample]), 1.0)\n",
      "/Users/rohannagar/anaconda/lib/python3.5/site-packages/skflow/io/data_feeder.py:217: VisibleDeprecationWarning: using a non-integer number instead of an integer will result in an error in the future\n",
      "  out.itemset((i, self.y[sample]), 1.0)\n",
      "/Users/rohannagar/anaconda/lib/python3.5/site-packages/skflow/io/data_feeder.py:217: VisibleDeprecationWarning: using a non-integer number instead of an integer will result in an error in the future\n",
      "  out.itemset((i, self.y[sample]), 1.0)\n",
      "/Users/rohannagar/anaconda/lib/python3.5/site-packages/skflow/io/data_feeder.py:217: VisibleDeprecationWarning: using a non-integer number instead of an integer will result in an error in the future\n",
      "  out.itemset((i, self.y[sample]), 1.0)\n",
      "/Users/rohannagar/anaconda/lib/python3.5/site-packages/skflow/io/data_feeder.py:217: VisibleDeprecationWarning: using a non-integer number instead of an integer will result in an error in the future\n",
      "  out.itemset((i, self.y[sample]), 1.0)\n",
      "/Users/rohannagar/anaconda/lib/python3.5/site-packages/skflow/io/data_feeder.py:217: VisibleDeprecationWarning: using a non-integer number instead of an integer will result in an error in the future\n",
      "  out.itemset((i, self.y[sample]), 1.0)\n",
      "/Users/rohannagar/anaconda/lib/python3.5/site-packages/skflow/io/data_feeder.py:217: VisibleDeprecationWarning: using a non-integer number instead of an integer will result in an error in the future\n",
      "  out.itemset((i, self.y[sample]), 1.0)\n",
      "/Users/rohannagar/anaconda/lib/python3.5/site-packages/skflow/io/data_feeder.py:217: VisibleDeprecationWarning: using a non-integer number instead of an integer will result in an error in the future\n",
      "  out.itemset((i, self.y[sample]), 1.0)\n",
      "/Users/rohannagar/anaconda/lib/python3.5/site-packages/skflow/io/data_feeder.py:217: VisibleDeprecationWarning: using a non-integer number instead of an integer will result in an error in the future\n",
      "  out.itemset((i, self.y[sample]), 1.0)\n",
      "/Users/rohannagar/anaconda/lib/python3.5/site-packages/skflow/io/data_feeder.py:217: VisibleDeprecationWarning: using a non-integer number instead of an integer will result in an error in the future\n",
      "  out.itemset((i, self.y[sample]), 1.0)\n",
      "/Users/rohannagar/anaconda/lib/python3.5/site-packages/skflow/io/data_feeder.py:217: VisibleDeprecationWarning: using a non-integer number instead of an integer will result in an error in the future\n",
      "  out.itemset((i, self.y[sample]), 1.0)\n",
      "/Users/rohannagar/anaconda/lib/python3.5/site-packages/skflow/io/data_feeder.py:217: VisibleDeprecationWarning: using a non-integer number instead of an integer will result in an error in the future\n",
      "  out.itemset((i, self.y[sample]), 1.0)\n",
      "/Users/rohannagar/anaconda/lib/python3.5/site-packages/skflow/io/data_feeder.py:217: VisibleDeprecationWarning: using a non-integer number instead of an integer will result in an error in the future\n",
      "  out.itemset((i, self.y[sample]), 1.0)\n",
      "/Users/rohannagar/anaconda/lib/python3.5/site-packages/skflow/io/data_feeder.py:217: VisibleDeprecationWarning: using a non-integer number instead of an integer will result in an error in the future\n",
      "  out.itemset((i, self.y[sample]), 1.0)\n",
      "/Users/rohannagar/anaconda/lib/python3.5/site-packages/skflow/io/data_feeder.py:217: VisibleDeprecationWarning: using a non-integer number instead of an integer will result in an error in the future\n",
      "  out.itemset((i, self.y[sample]), 1.0)\n",
      "/Users/rohannagar/anaconda/lib/python3.5/site-packages/skflow/io/data_feeder.py:217: VisibleDeprecationWarning: using a non-integer number instead of an integer will result in an error in the future\n",
      "  out.itemset((i, self.y[sample]), 1.0)\n",
      "/Users/rohannagar/anaconda/lib/python3.5/site-packages/skflow/io/data_feeder.py:217: VisibleDeprecationWarning: using a non-integer number instead of an integer will result in an error in the future\n",
      "  out.itemset((i, self.y[sample]), 1.0)\n"
     ]
    },
    {
     "name": "stdout",
     "output_type": "stream",
     "text": [
      "Best parameter set found:\n",
      "\n",
      "{'hidden_units': [5, 3, 4], 'learning_rate': 0.05}\n",
      "\n",
      "0.501 (+/-0.001) for {'hidden_units': [5], 'learning_rate': 0.05}\n",
      "0.500 (+/-0.001) for {'hidden_units': [5], 'learning_rate': 0.1}\n",
      "0.503 (+/-0.004) for {'hidden_units': [5, 3, 4], 'learning_rate': 0.05}\n",
      "0.502 (+/-0.003) for {'hidden_units': [5, 3, 4], 'learning_rate': 0.1}\n",
      "\n"
     ]
    }
   ],
   "source": [
    "import skflow\n",
    "from sklearn.model_selection import cross_val_score\n",
    "\n",
    "params = {\n",
    "    'hidden_units': [[5], [5, 3, 4]],\n",
    "    'learning_rate': [0.05, 0.1],\n",
    "}\n",
    "\n",
    "dnn = GridSearchCV(skflow.TensorFlowDNNClassifier(hidden_units=[5], n_classes=2, steps=50000, verbose=0),\n",
    "                   param_grid=params, cv=5, n_jobs=-1, scoring='roc_auc')\n",
    "dnn.fit(X_train, y_train)\n",
    "\n",
    "print_cv_results(dnn)"
   ]
  },
  {
   "cell_type": "markdown",
   "metadata": {},
   "source": [
    "Not very good scores with this data, but you can do some more parameter tuning to try and improve the scores. This was mainly to show you how to use a TensorFlow Neural Network classifier.\n",
    "\n",
    "Let's train a model and predict on the test data for completion."
   ]
  },
  {
   "cell_type": "code",
   "execution_count": 17,
   "metadata": {
    "collapsed": false
   },
   "outputs": [
    {
     "name": "stdout",
     "output_type": "stream",
     "text": [
      "Step #1, avg. loss: 0.63302\n",
      "Step #5001, epoch #3, avg. loss: 0.27369\n",
      "Step #10001, epoch #6, avg. loss: 0.24658\n",
      "Step #15001, epoch #9, avg. loss: 0.24609\n",
      "Step #20001, epoch #12, avg. loss: 0.24653\n",
      "Step #25001, epoch #15, avg. loss: 0.24658\n",
      "Step #30001, epoch #19, avg. loss: 0.24678\n",
      "Step #35001, epoch #22, avg. loss: 0.24716\n",
      "Step #40001, epoch #25, avg. loss: 0.24594\n",
      "Step #45001, epoch #28, avg. loss: 0.24639\n"
     ]
    },
    {
     "name": "stderr",
     "output_type": "stream",
     "text": [
      "/Users/rohannagar/anaconda/lib/python3.5/site-packages/skflow/io/data_feeder.py:217: VisibleDeprecationWarning: using a non-integer number instead of an integer will result in an error in the future\n",
      "  out.itemset((i, self.y[sample]), 1.0)\n"
     ]
    }
   ],
   "source": [
    "classifier = skflow.TensorFlowDNNClassifier(hidden_units=[5, 3, 4], n_classes=2, steps=50000, learning_rate=0.05)\n",
    "classifier.fit(X_train, y_train)\n",
    "preds = classifier.predict_proba(X_test)[:, 1]\n",
    "to_file('tensorflow.csv', test['id'], preds)"
   ]
  }
 ],
 "metadata": {
  "kernelspec": {
   "display_name": "Python 3",
   "language": "python",
   "name": "python3"
  },
  "language_info": {
   "codemirror_mode": {
    "name": "ipython",
    "version": 3
   },
   "file_extension": ".py",
   "mimetype": "text/x-python",
   "name": "python",
   "nbconvert_exporter": "python",
   "pygments_lexer": "ipython3",
   "version": "3.5.2"
  }
 },
 "nbformat": 4,
 "nbformat_minor": 0
}
