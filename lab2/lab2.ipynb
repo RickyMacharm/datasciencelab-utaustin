{
 "cells": [
  {
   "cell_type": "markdown",
   "metadata": {},
   "source": [
    "# EE 379K Lab 2\n",
    "## Rohan Nagar and Wenyang Fu"
   ]
  },
  {
   "cell_type": "code",
   "execution_count": 63,
   "metadata": {
    "collapsed": false
   },
   "outputs": [],
   "source": [
    "import pandas as pd\n",
    "import seaborn as sns\n",
    "import numpy as np\n",
    "import matplotlib.pyplot as plt\n",
    "%matplotlib inline"
   ]
  },
  {
   "cell_type": "code",
   "execution_count": 3,
   "metadata": {
    "collapsed": false
   },
   "outputs": [
    {
     "data": {
      "text/html": [
       "<div>\n",
       "<table border=\"1\" class=\"dataframe\">\n",
       "  <thead>\n",
       "    <tr style=\"text-align: right;\">\n",
       "      <th></th>\n",
       "      <th>0</th>\n",
       "      <th>1</th>\n",
       "      <th>2</th>\n",
       "      <th>3</th>\n",
       "    </tr>\n",
       "  </thead>\n",
       "  <tbody>\n",
       "    <tr>\n",
       "      <th>0</th>\n",
       "      <td>1.038502</td>\n",
       "      <td>0.899865</td>\n",
       "      <td>0.835053</td>\n",
       "      <td>-0.971528</td>\n",
       "    </tr>\n",
       "    <tr>\n",
       "      <th>1</th>\n",
       "      <td>0.320455</td>\n",
       "      <td>-0.647459</td>\n",
       "      <td>0.149079</td>\n",
       "      <td>0.352593</td>\n",
       "    </tr>\n",
       "    <tr>\n",
       "      <th>2</th>\n",
       "      <td>0.055480</td>\n",
       "      <td>2.234771</td>\n",
       "      <td>0.271672</td>\n",
       "      <td>-2.108739</td>\n",
       "    </tr>\n",
       "    <tr>\n",
       "      <th>3</th>\n",
       "      <td>-0.007260</td>\n",
       "      <td>-0.524299</td>\n",
       "      <td>-0.126550</td>\n",
       "      <td>0.670827</td>\n",
       "    </tr>\n",
       "    <tr>\n",
       "      <th>4</th>\n",
       "      <td>-1.237390</td>\n",
       "      <td>-1.377017</td>\n",
       "      <td>-1.049932</td>\n",
       "      <td>1.342079</td>\n",
       "    </tr>\n",
       "  </tbody>\n",
       "</table>\n",
       "</div>"
      ],
      "text/plain": [
       "          0         1         2         3\n",
       "0  1.038502  0.899865  0.835053 -0.971528\n",
       "1  0.320455 -0.647459  0.149079  0.352593\n",
       "2  0.055480  2.234771  0.271672 -2.108739\n",
       "3 -0.007260 -0.524299 -0.126550  0.670827\n",
       "4 -1.237390 -1.377017 -1.049932  1.342079"
      ]
     },
     "execution_count": 3,
     "metadata": {},
     "output_type": "execute_result"
    }
   ],
   "source": [
    "df1 = pd.read_csv('DF1')\n",
    "df1 = df1.ix[:, 1:] # Drop first column, which is meant to be the row labels.\n",
    "df1.head()"
   ]
  },
  {
   "cell_type": "markdown",
   "metadata": {},
   "source": [
    "# Problem 1A\n",
    "\n",
    "Look at the data in DF1 in Lab2.zip. Which columns are (pairwise) correlated? Figure out how to do this with Pandas, and also how to do this with Seaborn."
   ]
  },
  {
   "cell_type": "code",
   "execution_count": 4,
   "metadata": {
    "collapsed": false,
    "scrolled": true
   },
   "outputs": [
    {
     "data": {
      "text/html": [
       "<div>\n",
       "<table border=\"1\" class=\"dataframe\">\n",
       "  <thead>\n",
       "    <tr style=\"text-align: right;\">\n",
       "      <th></th>\n",
       "      <th>0</th>\n",
       "      <th>1</th>\n",
       "      <th>2</th>\n",
       "      <th>3</th>\n",
       "    </tr>\n",
       "  </thead>\n",
       "  <tbody>\n",
       "    <tr>\n",
       "      <th>0</th>\n",
       "      <td>1.000000</td>\n",
       "      <td>-0.003998</td>\n",
       "      <td>0.990066</td>\n",
       "      <td>0.004111</td>\n",
       "    </tr>\n",
       "    <tr>\n",
       "      <th>1</th>\n",
       "      <td>-0.003998</td>\n",
       "      <td>1.000000</td>\n",
       "      <td>-0.004085</td>\n",
       "      <td>-0.990235</td>\n",
       "    </tr>\n",
       "    <tr>\n",
       "      <th>2</th>\n",
       "      <td>0.990066</td>\n",
       "      <td>-0.004085</td>\n",
       "      <td>1.000000</td>\n",
       "      <td>0.004067</td>\n",
       "    </tr>\n",
       "    <tr>\n",
       "      <th>3</th>\n",
       "      <td>0.004111</td>\n",
       "      <td>-0.990235</td>\n",
       "      <td>0.004067</td>\n",
       "      <td>1.000000</td>\n",
       "    </tr>\n",
       "  </tbody>\n",
       "</table>\n",
       "</div>"
      ],
      "text/plain": [
       "          0         1         2         3\n",
       "0  1.000000 -0.003998  0.990066  0.004111\n",
       "1 -0.003998  1.000000 -0.004085 -0.990235\n",
       "2  0.990066 -0.004085  1.000000  0.004067\n",
       "3  0.004111 -0.990235  0.004067  1.000000"
      ]
     },
     "execution_count": 4,
     "metadata": {},
     "output_type": "execute_result"
    }
   ],
   "source": [
    "df1.corr()"
   ]
  },
  {
   "cell_type": "markdown",
   "metadata": {},
   "source": [
    "From our Pandas dataframe, we can see which ones are pairwise correlated with this matrix."
   ]
  },
  {
   "cell_type": "code",
   "execution_count": 5,
   "metadata": {
    "collapsed": false
   },
   "outputs": [
    {
     "data": {
      "text/plain": [
       "<matplotlib.axes._subplots.AxesSubplot at 0x10c14cf98>"
      ]
     },
     "execution_count": 5,
     "metadata": {},
     "output_type": "execute_result"
    },
    {
     "data": {
      "image/png": "[encoded data removed]",
      "text/plain": [
       "<matplotlib.figure.Figure at 0x10c14ca58>"
      ]
     },
     "metadata": {},
     "output_type": "display_data"
    }
   ],
   "source": [
    "sns.heatmap(df1.corr())"
   ]
  },
  {
   "cell_type": "markdown",
   "metadata": {},
   "source": [
    "We can also see this in our heatmap.\n",
    "\n",
    "Answer: It looks ilke Columns 0&2 are pairwise correlated."
   ]
  },
  {
   "cell_type": "markdown",
   "metadata": {},
   "source": [
    "# Problem 1B\n",
    "Compute the covariance matrix of the data. Write the explicit expression for what this is, and then use any command you like (e.g., np.cov) to compute the 4 × 4 matrix. Explain why the numbers that you get fit with the plots you got.\n",
    "\n",
    "The covariance matrix is the pairwise covariance between each of the features in the data."
   ]
  },
  {
   "cell_type": "code",
   "execution_count": 6,
   "metadata": {
    "collapsed": false
   },
   "outputs": [
    {
     "data": {
      "text/html": [
       "<div>\n",
       "<table border=\"1\" class=\"dataframe\">\n",
       "  <thead>\n",
       "    <tr style=\"text-align: right;\">\n",
       "      <th></th>\n",
       "      <th>0</th>\n",
       "      <th>1</th>\n",
       "      <th>2</th>\n",
       "      <th>3</th>\n",
       "    </tr>\n",
       "  </thead>\n",
       "  <tbody>\n",
       "    <tr>\n",
       "      <th>0</th>\n",
       "      <td>1.001558</td>\n",
       "      <td>-0.004012</td>\n",
       "      <td>0.991624</td>\n",
       "      <td>0.004125</td>\n",
       "    </tr>\n",
       "    <tr>\n",
       "      <th>1</th>\n",
       "      <td>-0.004012</td>\n",
       "      <td>1.005378</td>\n",
       "      <td>-0.004099</td>\n",
       "      <td>-0.995457</td>\n",
       "    </tr>\n",
       "    <tr>\n",
       "      <th>2</th>\n",
       "      <td>0.991624</td>\n",
       "      <td>-0.004099</td>\n",
       "      <td>1.001589</td>\n",
       "      <td>0.004081</td>\n",
       "    </tr>\n",
       "    <tr>\n",
       "      <th>3</th>\n",
       "      <td>0.004125</td>\n",
       "      <td>-0.995457</td>\n",
       "      <td>0.004081</td>\n",
       "      <td>1.005168</td>\n",
       "    </tr>\n",
       "  </tbody>\n",
       "</table>\n",
       "</div>"
      ],
      "text/plain": [
       "          0         1         2         3\n",
       "0  1.001558 -0.004012  0.991624  0.004125\n",
       "1 -0.004012  1.005378 -0.004099 -0.995457\n",
       "2  0.991624 -0.004099  1.001589  0.004081\n",
       "3  0.004125 -0.995457  0.004081  1.005168"
      ]
     },
     "execution_count": 6,
     "metadata": {},
     "output_type": "execute_result"
    }
   ],
   "source": [
    "df1.cov()"
   ]
  },
  {
   "cell_type": "markdown",
   "metadata": {},
   "source": [
    "The numbers of the covariance matrix fit with the correlation plot because the correlation matrix is just the covariance matrix of standardized features/independent variables. [https://en.wikipedia.org/wiki/Covariance_matrix#Correlation_matrix]"
   ]
  },
  {
   "cell_type": "markdown",
   "metadata": {
    "collapsed": true
   },
   "source": [
    "# Problem 1C\n",
    "\n",
    "The above problem in reverse. Generate a zero-mean multivariate Gaussian random variable in 3 dimensions, Z = (X1, X2, X3) so that (X1, X2) and (X1, X3) are uncorrelated, but (X2, X3) are correlated. Specifically: choose a covariance matrix that has the above correlations structure, and write this down. Then find a way to generate samples from this Gaussian. Choose one of the non-zero covariance terms (Cij, if C denotes your covariance matrix) and plot it vs the estimated covariance term, as the number of samples you use scales. The goal is to get a visual representation of how the empirical covariance converges to the true (or family) covariance"
   ]
  },
  {
   "cell_type": "code",
   "execution_count": 72,
   "metadata": {
    "collapsed": true
   },
   "outputs": [],
   "source": [
    "def estimate_covariance_with_samples(cov, i, j, num_samples):\n",
    "    '''\n",
    "    cov is the covariance matrix to sample from.\n",
    "    i is the row of the matrix to compare.\n",
    "    j is the column of the matrix to compare.\n",
    "    num_samples is the number of samples that should be generated.\n",
    "    '''\n",
    "    samples = np.random.multivariate_normal([0,0,0], cov, num_samples)\n",
    "    estimated_cov = np.cov(samples, rowvar=False)\n",
    "\n",
    "    return estimated_cov[i][j]"
   ]
  },
  {
   "cell_type": "code",
   "execution_count": 140,
   "metadata": {
    "collapsed": false
   },
   "outputs": [
    {
     "name": "stdout",
     "output_type": "stream",
     "text": [
      "Choosen covariance:\n",
      "[[ 4.   0.   0. ]\n",
      " [ 0.   2.   0.5]\n",
      " [ 0.   0.5  7. ]]\n",
      "\n"
     ]
    },
    {
     "data": {
      "text/plain": [
       "<matplotlib.text.Text at 0x157c32cf8>"
      ]
     },
     "execution_count": 140,
     "metadata": {},
     "output_type": "execute_result"
    },
    {
     "data": {
      "image/png": "[encoded data removed]",
      "text/plain": [
       "<matplotlib.figure.Figure at 0x157bc2e10>"
      ]
     },
     "metadata": {},
     "output_type": "display_data"
    }
   ],
   "source": [
    "# Choose a covariance matrix\n",
    "cov = [[4, 0, 0], [0, 2, 0.5], [0, 0.5, 7]]\n",
    "print('Choosen covariance:\\n{}\\n'.format(np.matrix(cov)))\n",
    "\n",
    "sizes = [25, 50, 100, 500, 1000, 2000, 5000, 10000, 100000]\n",
    "estimations = []\n",
    "\n",
    "for size in sizes:\n",
    "    estimations.append(estimate_covariance_with_samples(cov, 1, 2, size))\n",
    "\n",
    "# Plot estimations\n",
    "fig = plt.figure()\n",
    "ax = plt.gca()\n",
    "ax.scatter(sizes, estimations)\n",
    "ax.set_xscale('log')\n",
    "ax.set_title('Estimated Covariance as number of samples increase')\n",
    "plt.axhline(y=0.5, c='r')\n",
    "plt.xlabel('Number of samples')\n",
    "plt.ylabel('Estimated Covariance')"
   ]
  },
  {
   "cell_type": "markdown",
   "metadata": {},
   "source": [
    "We can see that the estimated covariance (which is supposed to be 0.5) varies widely with a small number of samples, but as the number of samples increases, it tends to converage on the actual covariance."
   ]
  },
  {
   "cell_type": "markdown",
   "metadata": {},
   "source": [
    "# Problem 2\n",
    "1. Look at the scatter plot of the data, and identify the two points that are potential outliers. Determine which one is \"more\" outlying.\n",
    "2. Propose a transform of the data that will make it clear that (-1,1) is more outlying than (5,5), even though the latter point is \"further away\" from the nearest points.\n",
    "3. Plot the data again after performing the xform.\n",
    "4. Provide discussion to justify the choice of transformation."
   ]
  },
  {
   "cell_type": "code",
   "execution_count": 78,
   "metadata": {
    "collapsed": false
   },
   "outputs": [
    {
     "data": {
      "text/html": [
       "<div>\n",
       "<table border=\"1\" class=\"dataframe\">\n",
       "  <thead>\n",
       "    <tr style=\"text-align: right;\">\n",
       "      <th></th>\n",
       "      <th>0</th>\n",
       "      <th>1</th>\n",
       "    </tr>\n",
       "  </thead>\n",
       "  <tbody>\n",
       "    <tr>\n",
       "      <th>0</th>\n",
       "      <td>1.038502</td>\n",
       "      <td>0.835053</td>\n",
       "    </tr>\n",
       "    <tr>\n",
       "      <th>1</th>\n",
       "      <td>0.320455</td>\n",
       "      <td>0.149079</td>\n",
       "    </tr>\n",
       "    <tr>\n",
       "      <th>2</th>\n",
       "      <td>0.055480</td>\n",
       "      <td>0.271672</td>\n",
       "    </tr>\n",
       "    <tr>\n",
       "      <th>3</th>\n",
       "      <td>-0.007260</td>\n",
       "      <td>-0.126550</td>\n",
       "    </tr>\n",
       "    <tr>\n",
       "      <th>4</th>\n",
       "      <td>-1.237390</td>\n",
       "      <td>-1.049932</td>\n",
       "    </tr>\n",
       "  </tbody>\n",
       "</table>\n",
       "</div>"
      ],
      "text/plain": [
       "          0         1\n",
       "0  1.038502  0.835053\n",
       "1  0.320455  0.149079\n",
       "2  0.055480  0.271672\n",
       "3 -0.007260 -0.126550\n",
       "4 -1.237390 -1.049932"
      ]
     },
     "execution_count": 78,
     "metadata": {},
     "output_type": "execute_result"
    }
   ],
   "source": [
    "df2 = pd.read_csv('DF2')\n",
    "df2 = df2.ix[:, 1:]\n",
    "df2.head()"
   ]
  },
  {
   "cell_type": "code",
   "execution_count": 79,
   "metadata": {
    "collapsed": false
   },
   "outputs": [
    {
     "data": {
      "text/plain": [
       "<matplotlib.axes._subplots.AxesSubplot at 0x10c8ec7b8>"
      ]
     },
     "execution_count": 79,
     "metadata": {},
     "output_type": "execute_result"
    },
    {
     "data": {
      "image/png": "[encoded data removed]",
      "text/plain": [
       "<matplotlib.figure.Figure at 0x113c23c88>"
      ]
     },
     "metadata": {},
     "output_type": "display_data"
    }
   ],
   "source": [
    "df2.plot.scatter(x='0', y='1')"
   ]
  },
  {
   "cell_type": "markdown",
   "metadata": {},
   "source": [
    "I propose a transform that will subtract the min value for each feature and scale by (min - max) for each feature. In this case, the x-axis (featuer 0) has a far greater range (max - min) than the y-axis, so performing MinMax will shrink the x-axis more than the y-axis, revealing the outlier, which is far more prominent on the y-axis."
   ]
  },
  {
   "cell_type": "code",
   "execution_count": 8,
   "metadata": {
    "collapsed": false
   },
   "outputs": [],
   "source": [
    "from sklearn.preprocessing import MinMaxScaler\n",
    "\n",
    "# Referenced from:\n",
    "# https://stackoverflow.com/questions/24645153/pandas-dataframe-columns-scaling-with-sklearn\n",
    "\n",
    "scaler = MinMaxScaler()\n",
    "df2_scaled = scaler.fit_transform(df2)"
   ]
  },
  {
   "cell_type": "code",
   "execution_count": 9,
   "metadata": {
    "collapsed": false
   },
   "outputs": [
    {
     "data": {
      "text/html": [
       "<div>\n",
       "<table border=\"1\" class=\"dataframe\">\n",
       "  <thead>\n",
       "    <tr style=\"text-align: right;\">\n",
       "      <th></th>\n",
       "      <th>0</th>\n",
       "      <th>1</th>\n",
       "    </tr>\n",
       "  </thead>\n",
       "  <tbody>\n",
       "    <tr>\n",
       "      <th>0</th>\n",
       "      <td>0.502707</td>\n",
       "      <td>0.511396</td>\n",
       "    </tr>\n",
       "    <tr>\n",
       "      <th>1</th>\n",
       "      <td>0.422671</td>\n",
       "      <td>0.430922</td>\n",
       "    </tr>\n",
       "    <tr>\n",
       "      <th>2</th>\n",
       "      <td>0.393136</td>\n",
       "      <td>0.445304</td>\n",
       "    </tr>\n",
       "    <tr>\n",
       "      <th>3</th>\n",
       "      <td>0.386143</td>\n",
       "      <td>0.398587</td>\n",
       "    </tr>\n",
       "    <tr>\n",
       "      <th>4</th>\n",
       "      <td>0.249029</td>\n",
       "      <td>0.290262</td>\n",
       "    </tr>\n",
       "  </tbody>\n",
       "</table>\n",
       "</div>"
      ],
      "text/plain": [
       "          0         1\n",
       "0  0.502707  0.511396\n",
       "1  0.422671  0.430922\n",
       "2  0.393136  0.445304\n",
       "3  0.386143  0.398587\n",
       "4  0.249029  0.290262"
      ]
     },
     "execution_count": 9,
     "metadata": {},
     "output_type": "execute_result"
    }
   ],
   "source": [
    "df2_scaled = pd.DataFrame(data=df2_scaled)\n",
    "df2_scaled.head()"
   ]
  },
  {
   "cell_type": "code",
   "execution_count": 18,
   "metadata": {
    "collapsed": false
   },
   "outputs": [
    {
     "data": {
      "image/png": "[encoded data removed]",
      "text/plain": [
       "<matplotlib.figure.Figure at 0x22d0d1f8160>"
      ]
     },
     "metadata": {},
     "output_type": "display_data"
    }
   ],
   "source": [
    "g = df2_scaled.plot.scatter(x=0, y=1)\n",
    "# Scale axes so that x and y are equal, as opposed to\n",
    "# x being wider than y\n",
    "# https://stackoverflow.com/questions/37725462/how-can-i-rescale-axis-without-scaling-the-image-in-an-image-plot-with-matplotli\n",
    "g.set_ylim([0, 1])\n",
    "axes_ticks = list(np.linspace(0, 1, num=5))\n",
    "plt.xticks(axes_ticks, axes_ticks)\n",
    "plt.yticks(axes_ticks, axes_ticks)\n",
    "plt.show()"
   ]
  },
  {
   "cell_type": "markdown",
   "metadata": {},
   "source": [
    "Unfortunately, I don't know how to rescale the graph such that the ratio between the x and y axis is 1:1 (square grid), as opposed to rectangular grid. So I'll just settle for this hacky workaround."
   ]
  },
  {
   "cell_type": "markdown",
   "metadata": {},
   "source": [
    "# Problem 3"
   ]
  },
  {
   "cell_type": "code",
   "execution_count": 126,
   "metadata": {
    "collapsed": false
   },
   "outputs": [
    {
     "data": {
      "text/plain": [
       "0.26267561456588812"
      ]
     },
     "execution_count": 126,
     "metadata": {},
     "output_type": "execute_result"
    }
   ],
   "source": [
    "def empirical_std(n, beta=0):\n",
    "    errors = []\n",
    "    for i in range(n):\n",
    "        X = np.random.randn(n)\n",
    "        E = np.random.randn(n)\n",
    "        y = -3 + np.dot(X,beta) + E\n",
    "\n",
    "        beta_hat = np.dot(X,y) / np.dot(X,X)\n",
    "\n",
    "        error = beta_hat - beta\n",
    "        errors.append(error)\n",
    "\n",
    "    # Compute the standard deviation\n",
    "    return np.std(errors)\n",
    "\n",
    "empirical_std(150)"
   ]
  },
  {
   "cell_type": "markdown",
   "metadata": {},
   "source": [
    "With the empirical standard deviation that we calculated, we can see that the $\\hat{\\beta}$ value of $-0.15$ is not very significant. This is because the empirical standard deviation of the error is greater than this value, so error can account for all of the $-0.15$."
   ]
  },
  {
   "cell_type": "code",
   "execution_count": 135,
   "metadata": {
    "collapsed": false
   },
   "outputs": [
    {
     "data": {
      "text/plain": [
       "<matplotlib.text.Text at 0x158305c18>"
      ]
     },
     "execution_count": 135,
     "metadata": {},
     "output_type": "execute_result"
    },
    {
     "data": {
      "image/png": "[encoded data removed]",
      "text/plain": [
       "<matplotlib.figure.Figure at 0x15987c128>"
      ]
     },
     "metadata": {},
     "output_type": "display_data"
    }
   ],
   "source": [
    "import math\n",
    "\n",
    "n_values = [100, 150, 300, 500, 750, 1000, 2000, 5000, 10000]\n",
    "\n",
    "std_devs = []\n",
    "one_over_root = []\n",
    "for value in n_values:\n",
    "    std_devs.append(empirical_std(value))\n",
    "    one_over_root.append(1/math.sqrt(value))\n",
    "    \n",
    "# Plot\n",
    "fig = plt.figure()\n",
    "ax = plt.gca()\n",
    "ax.scatter(n_values, std_devs, c='r')\n",
    "ax.scatter(n_values, one_over_root, c='g')\n",
    "ax.set_xscale('log')\n",
    "ax.set_title('Empirical Standard Deviation as number of samples increase')\n",
    "plt.xlabel('Number of samples')"
   ]
  },
  {
   "cell_type": "markdown",
   "metadata": {},
   "source": [
    "The red scatter plot is the empirical standard deviation. The green is $\\frac{1}{\\sqrt{n}}$. We notice that as the number of samples increases, the standard deviation goes down, which is what we expect. The fit of the two plots is really good."
   ]
  },
  {
   "cell_type": "markdown",
   "metadata": {},
   "source": [
    "# Problem 4"
   ]
  },
  {
   "cell_type": "code",
   "execution_count": 107,
   "metadata": {
    "collapsed": false
   },
   "outputs": [],
   "source": [
    "import glob\n",
    "import re\n",
    "from collections import Counter, defaultdict, OrderedDict\n",
    "\n",
    "\n",
    "class NameOracle:\n",
    "    def __init__(self):\n",
    "        \"\"\" Parse all text files from a directory of popular names from 1880~2015,\n",
    "        where each text file contains popular names for a particular year.\n",
    "        \"\"\"\n",
    "\n",
    "        self.names_by_year = defaultdict(lambda: Counter())\n",
    "        self.name_sex_count = defaultdict(lambda: Counter())\n",
    "        self.name_trends = defaultdict(lambda: OrderedDict())\n",
    "        path = 'Names/*.txt'\n",
    "        files = glob.glob(path)\n",
    "        for f in files:\n",
    "            with open(f, 'r') as names_file:\n",
    "                # Parse the year from the filename.\n",
    "                # The regex will only match the first number that it finds.\n",
    "                year = re.search('\\d+', f.split('.')[0]).group(0)\n",
    "                names_data = names_file.readlines()\n",
    "                for name_data in names_data:\n",
    "                    name, sex, count = name_data.strip().split(',')\n",
    "                    count = int(count)\n",
    "                    self.names_by_year[year][name] += count\n",
    "                    self.name_sex_count[name][sex] += count\n",
    "                    \n",
    "                    if year not in self.name_trends[name]:\n",
    "                        self.name_trends[name][year] = 0\n",
    "                    \n",
    "                    if sex == 'M':\n",
    "                        self.name_trends[name][year] += count\n",
    "                    else:\n",
    "                        self.name_trends[name][year] -= count\n",
    "\n",
    "    def top_k_by_year(self, k, year):\n",
    "        \"\"\" Given a value k and a year, find the top-k most popular\n",
    "        names of that year. \"\"\"\n",
    "        # collections.Counter implementation, from Python 2.7~3.5.2,\n",
    "        # guarantees O(nlog(k)) time complexity, where n is the number of\n",
    "        # unique names within a particular year.\n",
    "        return self.names_by_year[year].most_common(k)\n",
    "\n",
    "    def gender_frequency(self, name):\n",
    "        \"\"\" Given a name, returns the \n",
    "        frequency for men and women of that name.\"\"\"\n",
    "        name_counts = self.name_sex_count[name]\n",
    "        num_male = name_counts['M']\n",
    "        num_female = name_counts['F']\n",
    "        return (num_male, num_female)\n",
    "\n",
    "    def name_frequency_by_year(self, name, year):\n",
    "        \"\"\" Return the relative frequency (popularity) of a name\n",
    "        within a particular year. \"\"\"\n",
    "        # Number of people with a paritcular name within a particular year\n",
    "        name_count = self.names_by_year[year][name]\n",
    "        # Total number of people who had a popular name during that year\n",
    "        total = sum(self.names_by_year[year].values())\n",
    "        return name_count / total\n",
    "    \n",
    "    def gender_swapped_names(self):\n",
    "        \"\"\" Return a list of names that may have changed gender popularity\n",
    "        at any year. The name will be included even if it was more popular\n",
    "        for a different gender for only one year. In other words, a name\n",
    "        will not be included only if it was always more popular for one gender.\n",
    "        \"\"\"\n",
    "        names = []\n",
    "        for name, diff in self.name_trends.items():\n",
    "            prevPositive = False\n",
    "            prevNegative = False\n",
    "            for _, count in diff.items():\n",
    "                if count >= 0 and prevNegative:\n",
    "                    names.append(name)\n",
    "                    break\n",
    "                elif count < 0 and prevPositive:\n",
    "                    names.append(name)\n",
    "                    break\n",
    "                elif count >= 0:\n",
    "                    prevPositive = True\n",
    "                else:\n",
    "                    prevNegative = True\n",
    "                    \n",
    "        return names\n",
    "                    \n",
    "n = NameOracle()"
   ]
  },
  {
   "cell_type": "markdown",
   "metadata": {},
   "source": [
    "### Write a program that on input k and XXXX, returns the top k names from year XXXX"
   ]
  },
  {
   "cell_type": "code",
   "execution_count": 56,
   "metadata": {
    "collapsed": false
   },
   "outputs": [
    {
     "data": {
      "text/plain": [
       "[('John', 9701),\n",
       " ('William', 9561),\n",
       " ('Mary', 7092),\n",
       " ('James', 5949),\n",
       " ('Charles', 5359),\n",
       " ('George', 5152),\n",
       " ('Frank', 3255),\n",
       " ('Joseph', 2642),\n",
       " ('Anna', 2616),\n",
       " ('Thomas', 2542)]"
      ]
     },
     "execution_count": 56,
     "metadata": {},
     "output_type": "execute_result"
    }
   ],
   "source": [
    "n.top_k_by_year(10, '1880')"
   ]
  },
  {
   "cell_type": "code",
   "execution_count": 57,
   "metadata": {
    "collapsed": false
   },
   "outputs": [
    {
     "data": {
      "text/plain": [
       "[('Emma', 20365),\n",
       " ('Noah', 19648),\n",
       " ('Olivia', 19561),\n",
       " ('Liam', 18302),\n",
       " ('Sophia', 17341),\n",
       " ('Mason', 16626),\n",
       " ('Ava', 16305),\n",
       " ('Jacob', 15838),\n",
       " ('William', 15824),\n",
       " ('Isabella', 15525)]"
      ]
     },
     "execution_count": 57,
     "metadata": {},
     "output_type": "execute_result"
    }
   ],
   "source": [
    "n.top_k_by_year(10, '2015')"
   ]
  },
  {
   "cell_type": "markdown",
   "metadata": {},
   "source": [
    "### Write a program that on input Name returns the frequency for men and women of the name Name."
   ]
  },
  {
   "cell_type": "code",
   "execution_count": 59,
   "metadata": {
    "collapsed": false
   },
   "outputs": [
    {
     "name": "stdout",
     "output_type": "stream",
     "text": [
      "Children named Emma, male:1585. female:614505\n"
     ]
    }
   ],
   "source": [
    "name = 'Emma'\n",
    "male, female = n.gender_frequency(name)\n",
    "print(\"Children named {}, male:{}. female:{}\".format(name, male, female))"
   ]
  },
  {
   "cell_type": "markdown",
   "metadata": {},
   "source": [
    "### It could be that names are more diverse now than they were in 1880, so that a name may be relatively the most popular, though its frequency may have been decreasing over the years. Modify the above to return the relative frequency."
   ]
  },
  {
   "cell_type": "code",
   "execution_count": 60,
   "metadata": {
    "collapsed": false
   },
   "outputs": [
    {
     "data": {
      "text/plain": [
       "0.00555179498950843"
      ]
     },
     "execution_count": 60,
     "metadata": {},
     "output_type": "execute_result"
    }
   ],
   "source": [
    "n.name_frequency_by_year('Emma', '2015')"
   ]
  },
  {
   "cell_type": "code",
   "execution_count": 62,
   "metadata": {
    "collapsed": false
   },
   "outputs": [
    {
     "data": {
      "text/plain": [
       "0.00529681413133427"
      ]
     },
     "execution_count": 62,
     "metadata": {},
     "output_type": "execute_result"
    }
   ],
   "source": [
    "n.name_frequency_by_year('Joseph', '2004')"
   ]
  },
  {
   "cell_type": "markdown",
   "metadata": {},
   "source": [
    "### Find all the names that used to be more popular for one gender, but then became more popular for another gender."
   ]
  },
  {
   "cell_type": "code",
   "execution_count": 108,
   "metadata": {
    "collapsed": false
   },
   "outputs": [
    {
     "data": {
      "text/plain": [
       "['Alexandr',\n",
       " 'Finley',\n",
       " 'Marvis',\n",
       " 'Teva',\n",
       " 'Shoney',\n",
       " 'Money',\n",
       " 'Peris',\n",
       " 'Azriel',\n",
       " 'Salam',\n",
       " 'Gemini',\n",
       " 'Berkeley',\n",
       " 'Nova',\n",
       " 'Mirza',\n",
       " 'Jersey',\n",
       " 'Ellison',\n",
       " 'Jovon',\n",
       " 'Flory',\n",
       " 'Chancie',\n",
       " 'Shon',\n",
       " 'Boluwatife',\n",
       " 'Bunny',\n",
       " 'Espn',\n",
       " 'Presley',\n",
       " 'Mickell',\n",
       " 'Emerald',\n",
       " 'Jontay',\n",
       " 'Plumer',\n",
       " 'Mackie',\n",
       " 'Demaree',\n",
       " 'Jernell',\n",
       " 'Arlee',\n",
       " 'Tal',\n",
       " 'Melvis',\n",
       " 'Hamdi',\n",
       " 'Boots',\n",
       " 'Kiran',\n",
       " 'Gayle',\n",
       " 'Shalom',\n",
       " 'Carsen',\n",
       " 'Jamary',\n",
       " 'Orbie',\n",
       " 'Tarren',\n",
       " 'Donshae',\n",
       " 'Aubry',\n",
       " 'Zebbie',\n",
       " 'Lyndell',\n",
       " 'Gerd',\n",
       " 'Beverley',\n",
       " 'Carrington',\n",
       " 'Kesley',\n",
       " 'Myril',\n",
       " 'Deni',\n",
       " 'Dorcus',\n",
       " 'Iria',\n",
       " 'Joplin',\n",
       " 'Allah',\n",
       " 'Austyn',\n",
       " 'Lo',\n",
       " 'Jasyiah',\n",
       " 'Tai',\n",
       " 'Ermie',\n",
       " 'Ronelle',\n",
       " 'Rell',\n",
       " 'Dondi',\n",
       " 'Jovonnie',\n",
       " 'Ravon',\n",
       " 'Bayly',\n",
       " 'Ibukunoluwa',\n",
       " 'Seville',\n",
       " 'Corley',\n",
       " 'Leverne',\n",
       " 'Riki',\n",
       " 'Sham',\n",
       " 'Xan',\n",
       " 'Ridha',\n",
       " 'Ji',\n",
       " 'Victorious',\n",
       " 'Graylyn',\n",
       " 'Jaedin',\n",
       " 'Arlet',\n",
       " 'Omani',\n",
       " 'Cassidy',\n",
       " 'Reedie',\n",
       " 'Montana',\n",
       " 'Skylr',\n",
       " 'Elvi',\n",
       " 'Mang',\n",
       " 'Shearl',\n",
       " 'Jensy',\n",
       " 'Nuri',\n",
       " 'Azel',\n",
       " 'Dezzie',\n",
       " 'Allex',\n",
       " 'Pranjal',\n",
       " 'Taige',\n",
       " 'Darriel',\n",
       " 'Georgie',\n",
       " 'Quetzal',\n",
       " 'Machel',\n",
       " 'Romney',\n",
       " 'Wai',\n",
       " 'Justice',\n",
       " 'Lyndol',\n",
       " 'Troye',\n",
       " 'Amel',\n",
       " 'Lindy',\n",
       " 'Nanda',\n",
       " 'Verlen',\n",
       " 'Ercell',\n",
       " 'Doral',\n",
       " 'Hannan',\n",
       " 'Lawren',\n",
       " 'Syree',\n",
       " 'Dae',\n",
       " 'Atlee',\n",
       " 'Santi',\n",
       " 'Deaven',\n",
       " 'Ardell',\n",
       " 'Diamon',\n",
       " 'Elizah',\n",
       " 'Ervie',\n",
       " 'Arly',\n",
       " 'Kiari',\n",
       " 'Nakai',\n",
       " 'Lemon',\n",
       " 'Kaygen',\n",
       " 'Sylvesta',\n",
       " 'Honour',\n",
       " 'Maycen',\n",
       " 'Rochon',\n",
       " 'Monnie',\n",
       " 'Lish',\n",
       " 'Ozzie',\n",
       " 'Burnice',\n",
       " 'Semaj',\n",
       " 'Maitreya',\n",
       " 'Payson',\n",
       " 'Aundra',\n",
       " 'Shamarie',\n",
       " 'Mirl',\n",
       " 'Sully',\n",
       " 'Kosisochukwu',\n",
       " 'Nickey',\n",
       " 'Mannon',\n",
       " 'Kelynn',\n",
       " 'Yanis',\n",
       " 'Devery',\n",
       " 'Ventura',\n",
       " 'Rivers',\n",
       " 'Mabrey',\n",
       " 'Tallie',\n",
       " 'Carlas',\n",
       " 'Ngawang',\n",
       " 'Bo',\n",
       " 'Bona',\n",
       " 'Domenik',\n",
       " 'Koy',\n",
       " 'Ryian',\n",
       " 'Shaka',\n",
       " 'Lanier',\n",
       " 'Phoenix',\n",
       " 'Meba',\n",
       " 'Acey',\n",
       " 'Davee',\n",
       " 'Mickie',\n",
       " 'Tionne',\n",
       " 'Martie',\n",
       " 'Joyden',\n",
       " 'Murel',\n",
       " 'Dao',\n",
       " 'Mekel',\n",
       " 'Siah',\n",
       " 'Logahn',\n",
       " 'Starr',\n",
       " 'Sagen',\n",
       " 'Garcia',\n",
       " 'Caroll',\n",
       " 'Avanti',\n",
       " 'Nigel',\n",
       " 'Kellan',\n",
       " 'Simranjit',\n",
       " 'Casy',\n",
       " 'Montea',\n",
       " 'Meridith',\n",
       " 'Bailyn',\n",
       " 'Joie',\n",
       " 'Sonni',\n",
       " 'Ernie',\n",
       " 'Shakti',\n",
       " 'Agam',\n",
       " 'Jaquese',\n",
       " 'Devon',\n",
       " 'Heathe',\n",
       " 'Ezariah',\n",
       " 'Dannye',\n",
       " 'Ashtan',\n",
       " 'Amorie',\n",
       " 'Vernal',\n",
       " 'Leshun',\n",
       " 'Fain',\n",
       " 'Donel',\n",
       " 'Shamon',\n",
       " 'Dare',\n",
       " 'Alyn',\n",
       " 'Daryen',\n",
       " 'Mishawn',\n",
       " 'Alpha',\n",
       " 'Jermyah',\n",
       " 'Teagin',\n",
       " 'Adley',\n",
       " 'Lanell',\n",
       " 'Breck',\n",
       " 'Luegene',\n",
       " 'Merrell',\n",
       " 'Parris',\n",
       " 'Briley',\n",
       " 'Raevon',\n",
       " 'Collins',\n",
       " 'Pink',\n",
       " 'Ovel',\n",
       " 'Bradlie',\n",
       " 'Ayo',\n",
       " 'Marce',\n",
       " 'Vegas',\n",
       " 'Graylin',\n",
       " 'Dorsie',\n",
       " 'Donnie',\n",
       " 'Zonnie',\n",
       " 'Esa',\n",
       " 'Jayel',\n",
       " 'Darnel',\n",
       " 'Shavontae',\n",
       " 'Tahjae',\n",
       " 'Alexx',\n",
       " 'Kashmir',\n",
       " 'Kamori',\n",
       " 'Graison',\n",
       " 'Dallis',\n",
       " 'Cailean',\n",
       " 'Sutton',\n",
       " 'Jamison',\n",
       " 'Deylin',\n",
       " 'Knightley',\n",
       " 'Aeron',\n",
       " 'Tally',\n",
       " 'Hany',\n",
       " 'Norvell',\n",
       " 'Tao',\n",
       " 'Kendall',\n",
       " 'Jury',\n",
       " 'Silver',\n",
       " 'Malikia',\n",
       " 'Henley',\n",
       " 'Rondelle',\n",
       " 'Denym',\n",
       " 'Frankey',\n",
       " 'Jael',\n",
       " 'Essa',\n",
       " 'Yona',\n",
       " 'Rollins',\n",
       " 'Lorain',\n",
       " 'Barber',\n",
       " 'Ainsley',\n",
       " 'Tanaka',\n",
       " 'Jerris',\n",
       " 'Cameren',\n",
       " 'Lakoda',\n",
       " 'Arrow',\n",
       " 'Deshay',\n",
       " 'Marrin',\n",
       " 'Eldrid',\n",
       " 'Muril',\n",
       " 'Kiante',\n",
       " 'Christan',\n",
       " 'Barrie',\n",
       " 'Dorian',\n",
       " 'Khali',\n",
       " 'Auburn',\n",
       " 'Whitley',\n",
       " 'Connell',\n",
       " 'Stevy',\n",
       " 'Coti',\n",
       " 'Haydin',\n",
       " 'Karey',\n",
       " 'Baxley',\n",
       " 'Talin',\n",
       " 'Ashley',\n",
       " 'Danai',\n",
       " 'Regan',\n",
       " 'Jissie',\n",
       " 'Laverle',\n",
       " 'Riyan',\n",
       " 'Macaiah',\n",
       " 'Wallie',\n",
       " 'Yancy',\n",
       " 'Schuyler',\n",
       " 'Oluwaseyifunmi',\n",
       " 'Alijha',\n",
       " 'Esly',\n",
       " 'Rilley',\n",
       " 'Breckin',\n",
       " 'Iley',\n",
       " 'Mattia',\n",
       " 'Kayton',\n",
       " 'Enis',\n",
       " 'Mauri',\n",
       " 'Holly',\n",
       " 'Laren',\n",
       " 'Lile',\n",
       " 'Zi',\n",
       " 'Ki',\n",
       " 'Ardis',\n",
       " 'Clevie',\n",
       " 'Takeshi',\n",
       " 'Dilynn',\n",
       " 'Kamsiyochukwu',\n",
       " 'Leshon',\n",
       " 'Sakhi',\n",
       " 'Kamorie',\n",
       " 'Elshaddai',\n",
       " 'Areon',\n",
       " 'Hudsyn',\n",
       " 'Arnez',\n",
       " 'Shaton',\n",
       " 'Marlo',\n",
       " 'Sibley',\n",
       " 'Finau',\n",
       " 'Mico',\n",
       " 'Shanen',\n",
       " 'Luddie',\n",
       " 'Anias',\n",
       " 'Bracy',\n",
       " 'Jacquise',\n",
       " 'Greeley',\n",
       " 'Nazaret',\n",
       " 'Tyme',\n",
       " 'Ebba',\n",
       " 'Margene',\n",
       " 'Dorn',\n",
       " 'Lorrie',\n",
       " 'Ashtin',\n",
       " 'Hargun',\n",
       " 'Murle',\n",
       " 'Olle',\n",
       " 'Germany',\n",
       " 'Rebel',\n",
       " 'Shea',\n",
       " 'Marjon',\n",
       " 'Jaydn',\n",
       " 'Latrelle',\n",
       " 'Lashon',\n",
       " 'Derby',\n",
       " 'Audie',\n",
       " 'Skylur',\n",
       " 'Rameen',\n",
       " 'Ko',\n",
       " 'Wray',\n",
       " 'Orel',\n",
       " 'Jamille',\n",
       " 'Karsen',\n",
       " 'Byrl',\n",
       " 'Shady',\n",
       " 'Javonne',\n",
       " 'Temitope',\n",
       " 'Tay',\n",
       " 'Bronnie',\n",
       " 'Caron',\n",
       " 'Veral',\n",
       " 'Keimani',\n",
       " 'Robbe',\n",
       " 'Eris',\n",
       " 'Kadynn',\n",
       " 'Kimari',\n",
       " 'Jaice',\n",
       " 'Kayde',\n",
       " 'Psalms',\n",
       " 'Vonn',\n",
       " 'Hastings',\n",
       " 'Tobe',\n",
       " 'Mikele',\n",
       " 'Edwidge',\n",
       " 'Quinnie',\n",
       " 'Ryley',\n",
       " 'Prue',\n",
       " 'Kiyomi',\n",
       " 'Tyrie',\n",
       " 'Wadie',\n",
       " 'Danyel',\n",
       " 'Breion',\n",
       " 'Vivin',\n",
       " 'Charly',\n",
       " 'Adrine',\n",
       " 'Simi',\n",
       " 'Sugar',\n",
       " 'Ski',\n",
       " 'Malone',\n",
       " 'Kallen',\n",
       " 'Montoya',\n",
       " 'Angell',\n",
       " 'Clennie',\n",
       " 'Alexiel',\n",
       " 'Mckenzy',\n",
       " 'Numa',\n",
       " 'Skylan',\n",
       " 'Arreon',\n",
       " 'Patt',\n",
       " 'Nehal',\n",
       " 'Leelynn',\n",
       " 'Mykale',\n",
       " 'Stav',\n",
       " 'Shaquane',\n",
       " 'Oshai',\n",
       " 'Capree',\n",
       " 'Lotanna',\n",
       " 'Laetyn',\n",
       " 'Cuba',\n",
       " 'Codee',\n",
       " 'Byntlee',\n",
       " 'Annas',\n",
       " 'Aimar',\n",
       " 'Luan',\n",
       " 'Renel',\n",
       " 'Christon',\n",
       " 'Paysen',\n",
       " 'Jamelle',\n",
       " 'Samauri',\n",
       " 'Trishawn',\n",
       " 'Martrice',\n",
       " 'Murrell',\n",
       " 'Vashon',\n",
       " 'Romani',\n",
       " 'Tanay',\n",
       " 'Karn',\n",
       " 'Asheton',\n",
       " 'Aquilla',\n",
       " 'Kalijah',\n",
       " 'Lattie',\n",
       " 'Allyn',\n",
       " 'Marx',\n",
       " 'Choyce',\n",
       " 'Andrean',\n",
       " 'Rhylin',\n",
       " 'Jahdai',\n",
       " 'Kolbey',\n",
       " 'Monti',\n",
       " 'Luverne',\n",
       " 'Harlo',\n",
       " 'Arzell',\n",
       " 'Caelan',\n",
       " 'Bonell',\n",
       " 'Shi',\n",
       " 'Marshawn',\n",
       " 'Armanie',\n",
       " 'Davan',\n",
       " 'Daryn',\n",
       " 'Clydell',\n",
       " 'Makana',\n",
       " 'Fayne',\n",
       " 'Jwan',\n",
       " 'Ercel',\n",
       " 'Abba',\n",
       " 'Terrylee',\n",
       " 'Javone',\n",
       " 'Mikey',\n",
       " 'Kellen',\n",
       " 'Brannigan',\n",
       " 'Arguster',\n",
       " 'Xian',\n",
       " 'Sydney',\n",
       " 'Inioluwa',\n",
       " 'Kimbrell',\n",
       " 'Jeryn',\n",
       " 'Shawon',\n",
       " 'Suman',\n",
       " 'Azizi',\n",
       " 'Jazmond',\n",
       " 'Berkley',\n",
       " 'Kindall',\n",
       " 'Artice',\n",
       " 'Gean',\n",
       " 'Hilery',\n",
       " 'Bernis',\n",
       " 'Lavell',\n",
       " 'Ermal',\n",
       " 'Ishi',\n",
       " 'Zia',\n",
       " 'Jame',\n",
       " 'Takai',\n",
       " 'Femi',\n",
       " 'Airen',\n",
       " 'Estee',\n",
       " 'Quanta',\n",
       " 'Arrie',\n",
       " 'Brittin',\n",
       " 'Arryn',\n",
       " 'Destri',\n",
       " 'Soua',\n",
       " 'Kalae',\n",
       " 'Asencion',\n",
       " 'Julis',\n",
       " 'Marvell',\n",
       " 'Gerren',\n",
       " 'Brier',\n",
       " 'Dearion',\n",
       " 'Bee',\n",
       " 'Luka',\n",
       " 'Linley',\n",
       " 'Nakota',\n",
       " 'Shaune',\n",
       " 'Sherrel',\n",
       " 'Hilaire',\n",
       " 'Mavin',\n",
       " 'Skyy',\n",
       " 'Leny',\n",
       " 'Markelle',\n",
       " 'Rashaun',\n",
       " 'Jasey',\n",
       " 'Mykael',\n",
       " 'Fran',\n",
       " 'Emari',\n",
       " 'Lurie',\n",
       " 'Jowell',\n",
       " 'Brandis',\n",
       " 'Vesper',\n",
       " 'Azhar',\n",
       " 'Aareon',\n",
       " 'Skyelar',\n",
       " 'Mercury',\n",
       " 'Devonne',\n",
       " 'Demaria',\n",
       " 'Domenique',\n",
       " 'Arlyn',\n",
       " 'Gertis',\n",
       " 'Shamonte',\n",
       " 'Zollie',\n",
       " 'Sonam',\n",
       " 'Harmeet',\n",
       " 'Terre',\n",
       " 'Kentlee',\n",
       " 'Jammie',\n",
       " 'Jesy',\n",
       " 'Keran',\n",
       " 'Shawan',\n",
       " 'Michie',\n",
       " 'Altair',\n",
       " 'Avriel',\n",
       " 'Rasheen',\n",
       " 'Eaden',\n",
       " 'Kerian',\n",
       " 'Rommy',\n",
       " 'Brandell',\n",
       " 'Adryn',\n",
       " 'Kire',\n",
       " 'Jimi',\n",
       " 'Corda',\n",
       " 'Algene',\n",
       " 'Mechel',\n",
       " 'Alla',\n",
       " 'Jamell',\n",
       " 'Jovi',\n",
       " 'Dee',\n",
       " 'Korin',\n",
       " 'Morrissey',\n",
       " 'Keyonta',\n",
       " 'Jadeen',\n",
       " 'Garnie',\n",
       " 'Alvia',\n",
       " 'Aimen',\n",
       " 'Tatem',\n",
       " 'Larell',\n",
       " 'March',\n",
       " 'Rodie',\n",
       " 'Jamaris',\n",
       " 'De',\n",
       " 'Rejean',\n",
       " 'Chesley',\n",
       " 'Rhian',\n",
       " 'Nazareth',\n",
       " 'Hildred',\n",
       " 'Anmol',\n",
       " 'Jailin',\n",
       " 'Traice',\n",
       " 'Shirrel',\n",
       " 'Siu',\n",
       " 'Zamarie',\n",
       " 'Larken',\n",
       " 'Krosby',\n",
       " 'Tavish',\n",
       " 'Kalle',\n",
       " 'Demetrie',\n",
       " 'Ardel',\n",
       " 'Trenity',\n",
       " 'Indy',\n",
       " 'Cypress',\n",
       " 'Dor',\n",
       " 'Yoltzin',\n",
       " 'Mursal',\n",
       " 'Chia',\n",
       " 'Larue',\n",
       " 'Tylyn',\n",
       " 'Alvern',\n",
       " 'Wilmeth',\n",
       " 'Kenyotta',\n",
       " 'Gale',\n",
       " 'Areen',\n",
       " 'Edie',\n",
       " 'Jonell',\n",
       " 'Lorenza',\n",
       " 'Elza',\n",
       " 'Catlin',\n",
       " 'Kingslee',\n",
       " 'Weslyn',\n",
       " 'Seeley',\n",
       " 'Sai',\n",
       " 'Caisyn',\n",
       " 'Chandar',\n",
       " 'Giordan',\n",
       " 'Shamichael',\n",
       " 'Kenyata',\n",
       " 'Aijalon',\n",
       " 'Arias',\n",
       " 'Raja',\n",
       " 'Ocean',\n",
       " 'Currie',\n",
       " 'Britain',\n",
       " 'Maiko',\n",
       " 'Leshawn',\n",
       " 'Saron',\n",
       " 'Finnley',\n",
       " 'Demaris',\n",
       " 'Nirel',\n",
       " 'Mako',\n",
       " 'Sakari',\n",
       " 'Safi',\n",
       " 'Blakelee',\n",
       " 'Si',\n",
       " 'Narvell',\n",
       " 'Atlas',\n",
       " 'Maryland',\n",
       " 'Erice',\n",
       " 'Fair',\n",
       " 'Kelcy',\n",
       " 'Ayooluwa',\n",
       " 'Carlin',\n",
       " 'Leone',\n",
       " 'Lyn',\n",
       " 'Kacyn',\n",
       " 'Markie',\n",
       " 'Lark',\n",
       " 'Lou',\n",
       " 'Britten',\n",
       " 'Lashaun',\n",
       " 'Levis',\n",
       " 'Saia',\n",
       " 'Damari',\n",
       " 'Lashane',\n",
       " 'Glenis',\n",
       " 'Kristain',\n",
       " 'Almo',\n",
       " 'Seng',\n",
       " 'Amor',\n",
       " 'Kolbi',\n",
       " 'Sinceer',\n",
       " 'Donshay',\n",
       " 'Jaylenn',\n",
       " 'Shyler',\n",
       " 'Jamaine',\n",
       " 'Haru',\n",
       " 'Tabor',\n",
       " 'Coley',\n",
       " 'Greylin',\n",
       " 'Mendy',\n",
       " 'Danel',\n",
       " 'Donsha',\n",
       " 'Rain',\n",
       " 'Jaiden',\n",
       " 'Elmi',\n",
       " 'Jlyn',\n",
       " 'Perseus',\n",
       " 'Ival',\n",
       " 'Sathya',\n",
       " 'Tarae',\n",
       " 'Camani',\n",
       " 'Brittan',\n",
       " 'Jaquay',\n",
       " 'Pilar',\n",
       " 'Huntlee',\n",
       " 'Shaya',\n",
       " 'Pet',\n",
       " 'Jaidan',\n",
       " 'Jaque',\n",
       " 'Hollan',\n",
       " 'Keyan',\n",
       " 'Tarry',\n",
       " 'Jacquin',\n",
       " 'Shilo',\n",
       " 'Gaberial',\n",
       " 'Idrissa',\n",
       " 'Messiyah',\n",
       " 'Linden',\n",
       " 'Jabri',\n",
       " 'Cleotha',\n",
       " 'Tyan',\n",
       " 'Myran',\n",
       " 'Evyn',\n",
       " 'Ako',\n",
       " 'Jaydynn',\n",
       " 'Jordain',\n",
       " 'Dezi',\n",
       " 'Isa',\n",
       " 'Briane',\n",
       " 'Hally',\n",
       " 'Tinsley',\n",
       " 'Cruz',\n",
       " 'Madrid',\n",
       " 'Izell',\n",
       " 'Gurjot',\n",
       " 'Nyjah',\n",
       " 'Janvier',\n",
       " 'Yixuan',\n",
       " 'Navjot',\n",
       " 'Videl',\n",
       " 'Bobie',\n",
       " 'Kyrie',\n",
       " 'Shawntrell',\n",
       " 'Revel',\n",
       " 'Rosario',\n",
       " 'Ju',\n",
       " 'Andri',\n",
       " 'Dailin',\n",
       " 'Ireon',\n",
       " 'Shondale',\n",
       " 'Lexington',\n",
       " 'Kiree',\n",
       " 'Anoop',\n",
       " 'Nur',\n",
       " 'Eldie',\n",
       " 'Arlen',\n",
       " 'Ye',\n",
       " 'Tellie',\n",
       " 'Jaelin',\n",
       " 'Renie',\n",
       " 'Journey',\n",
       " 'Reny',\n",
       " 'Sharron',\n",
       " 'Blakeley',\n",
       " 'Tae',\n",
       " 'Kishon',\n",
       " 'Shevon',\n",
       " 'Cashlin',\n",
       " 'Toye',\n",
       " 'Tee',\n",
       " 'Khris',\n",
       " 'Keron',\n",
       " 'Neely',\n",
       " 'An',\n",
       " 'Carrey',\n",
       " 'Tacoma',\n",
       " 'Shenan',\n",
       " 'Amarri',\n",
       " 'Jahara',\n",
       " 'Shamar',\n",
       " 'Carney',\n",
       " 'Ayrion',\n",
       " 'Dian',\n",
       " 'Maika',\n",
       " 'Shiloh',\n",
       " 'Albie',\n",
       " 'Josha',\n",
       " 'Cashmir',\n",
       " 'Johnni',\n",
       " 'Jules',\n",
       " 'Valentine',\n",
       " 'Verlyn',\n",
       " 'Arrin',\n",
       " 'Jule',\n",
       " 'Jermaine',\n",
       " 'Riel',\n",
       " 'Omega',\n",
       " 'Adeyinka',\n",
       " 'Cedell',\n",
       " 'Tra',\n",
       " 'Gaby',\n",
       " 'Tashawn',\n",
       " 'Nashawn',\n",
       " 'Joss',\n",
       " 'Terez',\n",
       " 'Jasiyah',\n",
       " 'Jaylein',\n",
       " 'Demetrice',\n",
       " 'Lian',\n",
       " 'Manjot',\n",
       " 'Shawnn',\n",
       " 'Billyjo',\n",
       " 'Yannis',\n",
       " 'Dashan',\n",
       " 'Lequan',\n",
       " 'Bentlie',\n",
       " 'Shai',\n",
       " 'Wildred',\n",
       " 'Dontia',\n",
       " 'Colbi',\n",
       " 'Zaide',\n",
       " 'Calvary',\n",
       " 'Alexi',\n",
       " 'Teigen',\n",
       " 'Darcel',\n",
       " 'Reve',\n",
       " 'Tramaine',\n",
       " 'Haedyn',\n",
       " 'Hollace',\n",
       " 'Dilpreet',\n",
       " 'Deshon',\n",
       " 'Roshawn',\n",
       " 'Bailor',\n",
       " 'Courtenay',\n",
       " 'Cornie',\n",
       " 'Yuval',\n",
       " 'Caley',\n",
       " 'Maywood',\n",
       " 'Yu',\n",
       " 'Jamie',\n",
       " 'Averey',\n",
       " 'Mclane',\n",
       " 'Jackie',\n",
       " 'Prabhnoor',\n",
       " 'Savonne',\n",
       " 'Laquan',\n",
       " 'Reshon',\n",
       " 'Lowe',\n",
       " 'Shelley',\n",
       " 'Morgon',\n",
       " 'Yandy',\n",
       " 'Reagan',\n",
       " 'Braylyn',\n",
       " 'Tanish',\n",
       " 'Oza',\n",
       " 'Taiwo',\n",
       " 'Duanne',\n",
       " 'Jaryn',\n",
       " 'Dandy',\n",
       " 'Bentura',\n",
       " 'Tyrion',\n",
       " 'Rogue',\n",
       " 'Cai',\n",
       " 'Blaire',\n",
       " 'Kareen',\n",
       " 'Arie',\n",
       " 'Kylian',\n",
       " 'Patterson',\n",
       " 'Jayce',\n",
       " 'Quante',\n",
       " 'Artie',\n",
       " 'Zixuan',\n",
       " 'Bristol',\n",
       " 'Dushon',\n",
       " 'Haize',\n",
       " 'Taelin',\n",
       " 'Gwin',\n",
       " 'Navdeep',\n",
       " 'Garrie',\n",
       " 'Oshea',\n",
       " 'Delorian',\n",
       " 'Moxley',\n",
       " 'Deovion',\n",
       " 'Natale',\n",
       " 'Zhi',\n",
       " 'Temple',\n",
       " 'Audi',\n",
       " 'Ilia',\n",
       " 'Lien',\n",
       " 'Kairee',\n",
       " 'Jamy',\n",
       " 'Flores',\n",
       " 'Darcell',\n",
       " 'Rama',\n",
       " 'Abrian',\n",
       " 'Janas',\n",
       " 'Autie',\n",
       " 'Kimm',\n",
       " 'Raheel',\n",
       " 'Kennie',\n",
       " 'Doye',\n",
       " 'Hser',\n",
       " 'Dusty',\n",
       " 'Aris',\n",
       " 'Keante',\n",
       " 'Armoni',\n",
       " 'Starley',\n",
       " 'Yarrow',\n",
       " 'Schuylar',\n",
       " 'Nassim',\n",
       " 'Sanay',\n",
       " 'Brunell',\n",
       " 'Jennis',\n",
       " 'Courtlin',\n",
       " 'Ivory',\n",
       " 'Uganda',\n",
       " 'Perryn',\n",
       " 'Amouri',\n",
       " 'Talor',\n",
       " 'Gates',\n",
       " 'Kamarii',\n",
       " 'Di',\n",
       " 'Win',\n",
       " 'Aarian',\n",
       " 'Bristin',\n",
       " 'Jo',\n",
       " 'Alyric',\n",
       " 'Edden',\n",
       " 'Aryan',\n",
       " 'Lawsyn',\n",
       " 'Vallen',\n",
       " 'Texas',\n",
       " 'Corry',\n",
       " 'Monell',\n",
       " 'Jacyn',\n",
       " 'Lennell',\n",
       " 'Zyian',\n",
       " 'Franc',\n",
       " 'Bliss',\n",
       " 'Ying',\n",
       " 'Levone',\n",
       " 'Danye',\n",
       " 'Ronnie',\n",
       " 'Aarya',\n",
       " 'Sha',\n",
       " 'Bryley',\n",
       " 'Maki',\n",
       " 'Mikhal',\n",
       " 'Jee',\n",
       " 'Espie',\n",
       " 'Alexiz',\n",
       " 'Dondrea',\n",
       " 'Rashawn',\n",
       " 'Neri',\n",
       " 'Kylen',\n",
       " 'Faran',\n",
       " 'Every',\n",
       " 'Giang',\n",
       " 'Li',\n",
       " 'Darriell',\n",
       " 'Cam',\n",
       " 'Corneal',\n",
       " 'Emer',\n",
       " 'Clio',\n",
       " 'Raylee',\n",
       " 'Zai',\n",
       " 'Oda',\n",
       " 'Beryle',\n",
       " 'Peyden',\n",
       " 'Maxi',\n",
       " 'Uzoma',\n",
       " 'Ysabel',\n",
       " 'Rmani',\n",
       " 'Hero',\n",
       " 'Mychel',\n",
       " 'Kealoha',\n",
       " 'Chandara',\n",
       " 'Chane',\n",
       " 'Kameryn',\n",
       " 'Larsen',\n",
       " 'Lashone',\n",
       " 'Fiyinfoluwa',\n",
       " 'Lynn',\n",
       " 'Xai',\n",
       " 'Kaena',\n",
       " 'Shelly',\n",
       " 'Yacine',\n",
       " 'Jerre',\n",
       " 'Mykelti',\n",
       " 'Ebbie',\n",
       " 'Romie',\n",
       " 'Fayette',\n",
       " 'Larren',\n",
       " 'Azriah',\n",
       " 'Artell',\n",
       " 'Colie',\n",
       " 'Kary',\n",
       " 'Truby',\n",
       " 'Callaghan',\n",
       " 'Larelle',\n",
       " 'Kinley',\n",
       " 'Sherril',\n",
       " 'Camyron',\n",
       " 'Ariann',\n",
       " 'Jourdin',\n",
       " 'Mckinley',\n",
       " 'Masada',\n",
       " 'Subin',\n",
       " 'Jonel',\n",
       " 'Demetris',\n",
       " 'Tahjai',\n",
       " 'Jessey',\n",
       " 'Hollis',\n",
       " 'Ara',\n",
       " 'Loy',\n",
       " 'Findley',\n",
       " 'Jaquel',\n",
       " 'Kaylon',\n",
       " ...]"
      ]
     },
     "execution_count": 108,
     "metadata": {},
     "output_type": "execute_result"
    }
   ],
   "source": [
    "n.gender_swapped_names()"
   ]
  },
  {
   "cell_type": "markdown",
   "metadata": {},
   "source": [
    "Note that the name will be included even if it was more popular for a different gender for only one year. In other words, a name will not be included only if it was always more popular for the same gender every year."
   ]
  },
  {
   "cell_type": "markdown",
   "metadata": {},
   "source": [
    "# Problem 5\n",
    "\n",
    "The first part of this exercise was created by Dataquest. Run through the commands given in this tutorial: https://www.dataquest.io/blog/matplotlib-tutorial/ and understand the code."
   ]
  },
  {
   "cell_type": "code",
   "execution_count": 111,
   "metadata": {
    "collapsed": false
   },
   "outputs": [
    {
     "data": {
      "text/html": [
       "<div>\n",
       "<table border=\"1\" class=\"dataframe\">\n",
       "  <thead>\n",
       "    <tr style=\"text-align: right;\">\n",
       "      <th></th>\n",
       "      <th>id</th>\n",
       "      <th>id_str</th>\n",
       "      <th>user_location</th>\n",
       "      <th>user_bg_color</th>\n",
       "      <th>retweet_count</th>\n",
       "      <th>user_name</th>\n",
       "      <th>polarity</th>\n",
       "      <th>created</th>\n",
       "      <th>geo</th>\n",
       "      <th>user_description</th>\n",
       "      <th>user_created</th>\n",
       "      <th>user_followers</th>\n",
       "      <th>coordinates</th>\n",
       "      <th>subjectivity</th>\n",
       "      <th>text</th>\n",
       "    </tr>\n",
       "  </thead>\n",
       "  <tbody>\n",
       "    <tr>\n",
       "      <th>0</th>\n",
       "      <td>1</td>\n",
       "      <td>729828033092149248</td>\n",
       "      <td>Wheeling WV</td>\n",
       "      <td>022330</td>\n",
       "      <td>0</td>\n",
       "      <td>Jaybo26003</td>\n",
       "      <td>0.00</td>\n",
       "      <td>2016-05-10T00:18:57</td>\n",
       "      <td>NaN</td>\n",
       "      <td>NaN</td>\n",
       "      <td>2011-11-17T02:45:42</td>\n",
       "      <td>39</td>\n",
       "      <td>NaN</td>\n",
       "      <td>0.0</td>\n",
       "      <td>Make a difference vote! WV Bernie Sanders Coul...</td>\n",
       "    </tr>\n",
       "    <tr>\n",
       "      <th>1</th>\n",
       "      <td>2</td>\n",
       "      <td>729828033092161537</td>\n",
       "      <td>NaN</td>\n",
       "      <td>C0DEED</td>\n",
       "      <td>0</td>\n",
       "      <td>brittttany_ns</td>\n",
       "      <td>0.15</td>\n",
       "      <td>2016-05-10T00:18:57</td>\n",
       "      <td>NaN</td>\n",
       "      <td>18 // PSJAN</td>\n",
       "      <td>2012-12-24T17:33:12</td>\n",
       "      <td>1175</td>\n",
       "      <td>NaN</td>\n",
       "      <td>0.1</td>\n",
       "      <td>RT @HlPHOPNEWS: T.I. says if Donald Trump wins...</td>\n",
       "    </tr>\n",
       "    <tr>\n",
       "      <th>2</th>\n",
       "      <td>3</td>\n",
       "      <td>729828033566224384</td>\n",
       "      <td>NaN</td>\n",
       "      <td>C0DEED</td>\n",
       "      <td>0</td>\n",
       "      <td>JeffriesLori</td>\n",
       "      <td>0.00</td>\n",
       "      <td>2016-05-10T00:18:57</td>\n",
       "      <td>NaN</td>\n",
       "      <td>NaN</td>\n",
       "      <td>2012-10-11T14:29:59</td>\n",
       "      <td>42</td>\n",
       "      <td>NaN</td>\n",
       "      <td>0.0</td>\n",
       "      <td>You have no one to blame but yourselves if Tru...</td>\n",
       "    </tr>\n",
       "    <tr>\n",
       "      <th>3</th>\n",
       "      <td>4</td>\n",
       "      <td>729828033893302272</td>\n",
       "      <td>global</td>\n",
       "      <td>C0DEED</td>\n",
       "      <td>0</td>\n",
       "      <td>WhorunsGOVs</td>\n",
       "      <td>0.00</td>\n",
       "      <td>2016-05-10T00:18:57</td>\n",
       "      <td>NaN</td>\n",
       "      <td>Get Latest Global Political news as they unfold</td>\n",
       "      <td>2014-02-16T07:34:24</td>\n",
       "      <td>290</td>\n",
       "      <td>NaN</td>\n",
       "      <td>0.0</td>\n",
       "      <td>'Ruin the rest of their lives': Donald Trump c...</td>\n",
       "    </tr>\n",
       "    <tr>\n",
       "      <th>4</th>\n",
       "      <td>5</td>\n",
       "      <td>729828034178482177</td>\n",
       "      <td>California, USA</td>\n",
       "      <td>131516</td>\n",
       "      <td>0</td>\n",
       "      <td>BJCG0830</td>\n",
       "      <td>0.00</td>\n",
       "      <td>2016-05-10T00:18:57</td>\n",
       "      <td>NaN</td>\n",
       "      <td>Queer Latino invoking his 1st amendment privil...</td>\n",
       "      <td>2009-03-21T01:43:26</td>\n",
       "      <td>354</td>\n",
       "      <td>NaN</td>\n",
       "      <td>0.0</td>\n",
       "      <td>RT @elianayjohnson: Per source, GOP megadonor ...</td>\n",
       "    </tr>\n",
       "  </tbody>\n",
       "</table>\n",
       "</div>"
      ],
      "text/plain": [
       "   id              id_str    user_location user_bg_color  retweet_count  \\\n",
       "0   1  729828033092149248      Wheeling WV        022330              0   \n",
       "1   2  729828033092161537              NaN        C0DEED              0   \n",
       "2   3  729828033566224384              NaN        C0DEED              0   \n",
       "3   4  729828033893302272           global        C0DEED              0   \n",
       "4   5  729828034178482177  California, USA        131516              0   \n",
       "\n",
       "       user_name  polarity              created  geo  \\\n",
       "0     Jaybo26003      0.00  2016-05-10T00:18:57  NaN   \n",
       "1  brittttany_ns      0.15  2016-05-10T00:18:57  NaN   \n",
       "2   JeffriesLori      0.00  2016-05-10T00:18:57  NaN   \n",
       "3    WhorunsGOVs      0.00  2016-05-10T00:18:57  NaN   \n",
       "4       BJCG0830      0.00  2016-05-10T00:18:57  NaN   \n",
       "\n",
       "                                    user_description         user_created  \\\n",
       "0                                                NaN  2011-11-17T02:45:42   \n",
       "1                                        18 // PSJAN  2012-12-24T17:33:12   \n",
       "2                                                NaN  2012-10-11T14:29:59   \n",
       "3    Get Latest Global Political news as they unfold  2014-02-16T07:34:24   \n",
       "4  Queer Latino invoking his 1st amendment privil...  2009-03-21T01:43:26   \n",
       "\n",
       "   user_followers coordinates  subjectivity  \\\n",
       "0              39         NaN           0.0   \n",
       "1            1175         NaN           0.1   \n",
       "2              42         NaN           0.0   \n",
       "3             290         NaN           0.0   \n",
       "4             354         NaN           0.0   \n",
       "\n",
       "                                                text  \n",
       "0  Make a difference vote! WV Bernie Sanders Coul...  \n",
       "1  RT @HlPHOPNEWS: T.I. says if Donald Trump wins...  \n",
       "2  You have no one to blame but yourselves if Tru...  \n",
       "3  'Ruin the rest of their lives': Donald Trump c...  \n",
       "4  RT @elianayjohnson: Per source, GOP megadonor ...  "
      ]
     },
     "execution_count": 111,
     "metadata": {},
     "output_type": "execute_result"
    }
   ],
   "source": [
    "import pandas as pd\n",
    "\n",
    "tweets = pd.read_csv(\"tweets.csv\")\n",
    "tweets.head()"
   ]
  },
  {
   "cell_type": "code",
   "execution_count": 112,
   "metadata": {
    "collapsed": true
   },
   "outputs": [],
   "source": [
    "def get_candidate(row):\n",
    "    candidates = []\n",
    "    text = row[\"text\"].lower()\n",
    "    if \"clinton\" in text or \"hillary\" in text:\n",
    "        candidates.append(\"clinton\")\n",
    "    if \"trump\" in text or \"donald\" in text:\n",
    "        candidates.append(\"trump\")\n",
    "    if \"sanders\" in text or \"bernie\" in text:\n",
    "        candidates.append(\"sanders\")\n",
    "    return \",\".join(candidates)\n",
    "\n",
    "tweets[\"candidate\"] = tweets.apply(get_candidate,axis=1)"
   ]
  },
  {
   "cell_type": "code",
   "execution_count": 113,
   "metadata": {
    "collapsed": false
   },
   "outputs": [
    {
     "data": {
      "image/png": "[encoded data removed]",
      "text/plain": [
       "<matplotlib.figure.Figure at 0x11d634c88>"
      ]
     },
     "metadata": {},
     "output_type": "display_data"
    },
    {
     "name": "stdout",
     "output_type": "stream",
     "text": [
      "trump                    119998\n",
      "clinton,trump             30521\n",
      "                          25429\n",
      "sanders                   25351\n",
      "clinton                   22746\n",
      "clinton,sanders            6044\n",
      "clinton,trump,sanders      4219\n",
      "trump,sanders              3172\n",
      "Name: candidate, dtype: int64\n"
     ]
    }
   ],
   "source": [
    "counts = tweets[\"candidate\"].value_counts()\n",
    "plt.bar(range(len(counts)), counts)\n",
    "plt.show()\n",
    "\n",
    "print(counts)"
   ]
  },
  {
   "cell_type": "code",
   "execution_count": 114,
   "metadata": {
    "collapsed": false
   },
   "outputs": [
    {
     "data": {
      "image/png": "[encoded data removed]",
      "text/plain": [
       "<matplotlib.figure.Figure at 0x10d7c2358>"
      ]
     },
     "metadata": {},
     "output_type": "display_data"
    }
   ],
   "source": [
    "from datetime import datetime\n",
    "\n",
    "tweets[\"created\"] = pd.to_datetime(tweets[\"created\"])\n",
    "tweets[\"user_created\"] = pd.to_datetime(tweets[\"user_created\"])\n",
    "\n",
    "tweets[\"user_age\"] = tweets[\"user_created\"].apply(lambda x: (datetime.now() - x).total_seconds() / 3600 / 24 / 365)\n",
    "plt.hist(tweets[\"user_age\"])\n",
    "plt.show()"
   ]
  },
  {
   "cell_type": "code",
   "execution_count": 115,
   "metadata": {
    "collapsed": false
   },
   "outputs": [
    {
     "data": {
      "image/png": "[encoded data removed]",
      "text/plain": [
       "<matplotlib.figure.Figure at 0x11d6347b8>"
      ]
     },
     "metadata": {},
     "output_type": "display_data"
    }
   ],
   "source": [
    "plt.hist(tweets[\"user_age\"])\n",
    "plt.title(\"Tweets mentioning candidates\")\n",
    "plt.xlabel(\"Twitter account age in years\")\n",
    "plt.ylabel(\"# of tweets\")\n",
    "plt.show()"
   ]
  },
  {
   "cell_type": "code",
   "execution_count": 116,
   "metadata": {
    "collapsed": false
   },
   "outputs": [
    {
     "data": {
      "image/png": "[encoded data removed]",
      "text/plain": [
       "<matplotlib.figure.Figure at 0x136929e80>"
      ]
     },
     "metadata": {},
     "output_type": "display_data"
    }
   ],
   "source": [
    "cl_tweets = tweets[\"user_age\"][tweets[\"candidate\"] == \"clinton\"]\n",
    "sa_tweets = tweets[\"user_age\"][tweets[\"candidate\"] == \"sanders\"]\n",
    "tr_tweets = tweets[\"user_age\"][tweets[\"candidate\"] == \"trump\"]\n",
    "plt.hist([\n",
    "        cl_tweets, \n",
    "        sa_tweets, \n",
    "        tr_tweets\n",
    "    ], \n",
    "    stacked=True, \n",
    "    label=[\"clinton\", \"sanders\", \"trump\"]\n",
    ")\n",
    "plt.legend()\n",
    "plt.title(\"Tweets mentioning each candidate\")\n",
    "plt.xlabel(\"Twitter account age in years\")\n",
    "plt.ylabel(\"# of tweets\")\n",
    "plt.show()"
   ]
  },
  {
   "cell_type": "code",
   "execution_count": 117,
   "metadata": {
    "collapsed": false
   },
   "outputs": [
    {
     "data": {
      "image/png": "[encoded data removed]",
      "text/plain": [
       "<matplotlib.figure.Figure at 0x15d18c7f0>"
      ]
     },
     "metadata": {},
     "output_type": "display_data"
    }
   ],
   "source": [
    "plt.hist([\n",
    "        cl_tweets, \n",
    "        sa_tweets, \n",
    "        tr_tweets\n",
    "    ], \n",
    "    stacked=True, \n",
    "    label=[\"clinton\", \"sanders\", \"trump\"]\n",
    ")\n",
    "plt.legend()\n",
    "plt.title(\"Tweets mentioning each candidate\")\n",
    "plt.xlabel(\"Twitter account age in years\")\n",
    "plt.ylabel(\"# of tweets\")\n",
    "plt.annotate('More Trump tweets', xy=(1, 35000), xytext=(2, 35000),\n",
    "            arrowprops=dict(facecolor='black'))\n",
    "plt.show()"
   ]
  },
  {
   "cell_type": "markdown",
   "metadata": {},
   "source": [
    "# Suppose you'd like to aggregate by State. How would you do this?"
   ]
  },
  {
   "cell_type": "code",
   "execution_count": 142,
   "metadata": {
    "collapsed": false
   },
   "outputs": [
    {
     "data": {
      "text/plain": [
       "0                    Wheeling WV\n",
       "1                            NaN\n",
       "2                            NaN\n",
       "3                         global\n",
       "4                California, USA\n",
       "5                    Northern VA\n",
       "6                            NaN\n",
       "7                was calebsheIby\n",
       "8                   New York, NY\n",
       "9                 Pittsburgh, PA\n",
       "10                           NaN\n",
       "11                           NaN\n",
       "12                           NaN\n",
       "13    Isla Mujeres, Quintana Roo\n",
       "14                           NaN\n",
       "Name: user_location, dtype: object"
      ]
     },
     "execution_count": 142,
     "metadata": {},
     "output_type": "execute_result"
    }
   ],
   "source": [
    "tweets['user_location'].head(15)"
   ]
  },
  {
   "cell_type": "markdown",
   "metadata": {},
   "source": [
    "## Answer\n",
    "To filter the tweets by state, it would be necessary to build a thesaurus for all possible names a state could fall under.\n",
    "\n",
    "e.g. Texas could be represented as Texas, TX, tx, or texas.\n",
    "\n",
    "There are also cases where cities (like Houston) are in a particular state, but the state isn't explicitly listed. In those cases, we'd need to find the relevant state by searching via Google or some other service."
   ]
  },
  {
   "cell_type": "code",
   "execution_count": 159,
   "metadata": {
    "collapsed": false
   },
   "outputs": [
    {
     "data": {
      "image/png": "[encoded data removed]",
      "text/plain": [
       "<matplotlib.figure.Figure at 0x132bbd438>"
      ]
     },
     "metadata": {},
     "output_type": "display_data"
    }
   ],
   "source": [
    "def state_count(state_filter):\n",
    "    idxs = []\n",
    "    for idx, loc in enumerate(tweets['user_location']):\n",
    "        try:\n",
    "            if any(state in loc for state in state_filter):\n",
    "                idxs.append(idx)\n",
    "        except TypeError:\n",
    "            pass\n",
    "    \n",
    "    return len(idxs)\n",
    "\n",
    "texas_tweets = state_count(['TX', 'tx', 'Texas', 'texas', 'Houston', 'Austin'])\n",
    "california_tweets = state_count(['CA', 'ca', 'California', 'california', 'cali', 'SF', 'san francisco'])\n",
    "florida_tweets = state_count(['FL', 'fl', 'Florida', 'florida', 'orlando'])\n",
    "\n",
    "ax = plt.figure()\n",
    "barlist = plt.bar(range(3), [texas_tweets, california_tweets, florida_tweets], align='center')\n",
    "barlist[0].set_color('y')\n",
    "barlist[1].set_color('g')"
   ]
  },
  {
   "cell_type": "markdown",
   "metadata": {
    "collapsed": true
   },
   "source": [
    "We can do this for multiple states, and also improve our thesaurus' for each state."
   ]
  }
 ],
 "metadata": {
  "kernelspec": {
   "display_name": "Python 3",
   "language": "python",
   "name": "python3"
  },
  "language_info": {
   "codemirror_mode": {
    "name": "ipython",
    "version": 3
   },
   "file_extension": ".py",
   "mimetype": "text/x-python",
   "name": "python",
   "nbconvert_exporter": "python",
   "pygments_lexer": "ipython3",
   "version": "3.5.1"
  }
 },
 "nbformat": 4,
 "nbformat_minor": 0
}
