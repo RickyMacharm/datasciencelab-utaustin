{
 "cells": [
  {
   "cell_type": "markdown",
   "metadata": {},
   "source": [
    "# EE 379K: Lab 6\n",
    "\n",
    "## Rohan Nagar and Wenyang Fu"
   ]
  },
  {
   "cell_type": "code",
   "execution_count": 1,
   "metadata": {
    "collapsed": true
   },
   "outputs": [],
   "source": [
    "import random\n",
    "import numpy as np\n",
    "import pandas as pd\n",
    "import matplotlib as mpl\n",
    "import matplotlib.pyplot as plt\n",
    "\n",
    "from mpl_toolkits.mplot3d import Axes3D\n",
    "\n",
    "%matplotlib inline\n",
    "%load_ext autoreload\n",
    "%autoreload 2"
   ]
  },
  {
   "cell_type": "markdown",
   "metadata": {},
   "source": [
    "# Problem 1: K-Means\n",
    "\n",
    "### Part 1\n",
    "\n",
    "Implement the K-Means algorithm with a random initalization. Recall that there are two steps: given the centers, computing the clusters, and given the clusters, computing the centers. As discussed in class, the second is straightforward. Describe how you do the first step.\n",
    "\n",
    "### Answer\n",
    "\n",
    "You can do the first step with the following basic algorithm. You have a list of the centers and a list of all the points that need to be put in a cluster.\n",
    "\n",
    "For each point, compute the distance (using the same distance metric you have been using) from the point to each center. Choose the distance with the smallest magnitude. All of the points with that center as the closest will form a cluster around that center."
   ]
  },
  {
   "cell_type": "code",
   "execution_count": 2,
   "metadata": {
    "collapsed": true
   },
   "outputs": [],
   "source": [
    "# %load kmeans.py\n",
    "import numpy as np\n",
    "from collections import defaultdict\n",
    "from copy import deepcopy\n",
    "\n",
    "\n",
    "class KMeans(object):\n",
    "    def __init__(self, df, k):\n",
    "        \"\"\"\n",
    "        Given a pandas dataframe and the of clusters,\n",
    "        Initializes k-means to its initial K centroids\n",
    "        via uniform random sampling (without replacement).\n",
    "\n",
    "        Params:\n",
    "            df - pandas dataframe containing points to be clustered\n",
    "            k - number of clusters to form\n",
    "        \"\"\"\n",
    "\n",
    "        # Got some help/inspiration from this StackOverflow link:\n",
    "        # http://stackoverflow.com/questions/5466323/how-exactly-does-k-means-work\n",
    "        # Also read this link (a bit confusing, but helpful too):\n",
    "        # https://datasciencelab.wordpress.com/2014/01/15/improved-seeding-for-clustering-with-k-means/\n",
    "\n",
    "        self.k = np.min(k, df.shape[0])\n",
    "        self.points = df.as_matrix()\n",
    "        self.centers = df.sample(self._k).as_matrix()\n",
    "        self.clusters = defaultdict(list)\n",
    "\n",
    "    def _find_center(self, p):\n",
    "        \"\"\" Calculates the closest center for a point based\n",
    "        on Euclidean distance.\n",
    "\n",
    "        Args:\n",
    "            p - a point within self.points\n",
    "\n",
    "        Returns:\n",
    "            Index of the center closest to current pixel\n",
    "        \"\"\"\n",
    "        center_dists = np.linalg.norm(p - self.centers, axis=1)\n",
    "        return np.argmin(center_dists)\n",
    "\n",
    "    def _assign(self):\n",
    "        \"\"\"Assign each point to its nearest centroid.\"\"\"\n",
    "        clusters = defaultdict(list)\n",
    "        for p in self.points:\n",
    "            center_idx = self._find_center(p)\n",
    "            clusters[center_idx].append(p)\n",
    "        self.clusters = clusters\n",
    "\n",
    "    def update_centroids(self):\n",
    "        \"\"\" Update centroids for a single iteration of k-means.\"\"\"\n",
    "        self._assign()\n",
    "        new_centers = np.zeros(self.centers.shape)\n",
    "        # Recompute new centroids\n",
    "        for center_idx, cluster in sorted(self.clusters).items():\n",
    "            # transform list of points in cluster -> ndarray of points\n",
    "            cluster_pts = np.array(cluster)\n",
    "            # Take the average of all points (aka along the rows, axis=0)\n",
    "            # associated with the current centroid, and\n",
    "            # use that as the new centroid.\n",
    "            avg = np.sum(cluster_pts, axis=0) / cluster_pts.shape[0]\n",
    "            new_centers[center_idx] = avg\n",
    "        self.centers = new_centers\n",
    "\n",
    "    def run(self, num_iters=10):\n",
    "        \"\"\"\n",
    "        Runs K-means++ for num_iters iterations, or until\n",
    "        centroids converge.\n",
    "        \"\"\"\n",
    "        for i in range(num_iters):\n",
    "            old_centroids = deepcopy(self.centers)\n",
    "            self.update_centroids()\n",
    "            if i != 0:\n",
    "                if self.centers == old_centroids:\n",
    "                    break\n",
    "        return zip(self.centers, list(self.clusters.values()))\n"
   ]
  },
  {
   "cell_type": "markdown",
   "metadata": {},
   "source": [
    "### Part 2\n",
    "\n",
    "Now implement K-Means++, i.e., the K-Means++ initalization."
   ]
  },
  {
   "cell_type": "code",
   "execution_count": 3,
   "metadata": {
    "collapsed": true
   },
   "outputs": [],
   "source": [
    "# %load kmeanspp.py\n",
    "import numpy as np\n",
    "from collections import defaultdict\n",
    "from copy import deepcopy\n",
    "\n",
    "\n",
    "class KMeansPP(object):\n",
    "    def __init__(self, df, k):\n",
    "        \"\"\"\n",
    "        Given a pandas dataframe and the of clusters,\n",
    "        Initializes k-means to its initial K centroids\n",
    "        via k-means++ init\n",
    "\n",
    "        Params:\n",
    "            df - pandas dataframe containing points to be clustered\n",
    "            k - number of clusters to form\n",
    "        \"\"\"\n",
    "\n",
    "        # Got some help/inspiration from this StackOverflow link:\n",
    "        # http://stackoverflow.com/questions/5466323/how-exactly-does-k-means-work\n",
    "        # Also read this link (a bit confusing, but helpful too):\n",
    "        # https://datasciencelab.wordpress.com/2014/01/15/improved-seeding-for-clustering-with-k-means/\n",
    "\n",
    "        # If the number of points is less than the number\n",
    "        # of clusters, then set k=number of points\n",
    "        self.k = min(k, df.shape[0])\n",
    "        self.points = df.as_matrix()\n",
    "        self.centers = []\n",
    "\n",
    "        # Choose initial center uniformly at random from the points.\n",
    "        c1_index = np.random.randint(low=0, high=self.points.shape[0])\n",
    "        # self.centers[0] = self.points[c1_index]\n",
    "        self.centers.append(self.points[c1_index])\n",
    "\n",
    "        for i in range(1, k):\n",
    "            # For each iteration, Compute the vector containing the square\n",
    "            # distances between all points in the dataset\n",
    "\n",
    "            dist_vec = np.array([min([(c - x) @ (c - x)\n",
    "                                      for c in self.centers])\n",
    "                                 for x in self.points])\n",
    "            # choose each subsequent center from self.points,\n",
    "            # randomly drawn from the normalized probability distribution\n",
    "            # over dist_vec.\n",
    "            probs = dist_vec / dist_vec.sum()\n",
    "            cumprobs = probs.cumsum()\n",
    "            r = np.random.rand()\n",
    "\n",
    "            for j, p in enumerate(cumprobs):\n",
    "                if r < p:\n",
    "                    ci_index = j  # Index of every subsequent centroid\n",
    "                    break\n",
    "            self.centers.append(self.points[ci_index])\n",
    "\n",
    "        self.centers = np.array(self.centers)\n",
    "        self.clusters = defaultdict(list)\n",
    "\n",
    "    def _find_center(self, p):\n",
    "        \"\"\" Calculates the closest center for a point based\n",
    "        on Euclidean distance.\n",
    "\n",
    "        Args:\n",
    "            p - a point within self.points\n",
    "\n",
    "        Returns:\n",
    "            Index of the center closest to current pixel\n",
    "        \"\"\"\n",
    "        center_dists = np.linalg.norm(p - self.centers, axis=1)\n",
    "        return np.argmin(center_dists)\n",
    "\n",
    "    def _assign(self):\n",
    "        \"\"\"Assign each point to its nearest centroid.\"\"\"\n",
    "        clusters = defaultdict(list)\n",
    "        for p in self.points:\n",
    "            center_idx = self._find_center(p)\n",
    "            clusters[center_idx].append(p)\n",
    "        self.clusters = clusters\n",
    "\n",
    "    def _update_centroids(self):\n",
    "        \"\"\" Update centroids for a single iteration of k-means.\"\"\"\n",
    "        self._assign()\n",
    "        new_centers = np.zeros(self.centers.shape)\n",
    "        # Recompute new centroids\n",
    "        for center_idx, cluster in sorted(self.clusters.items()):\n",
    "            # transform list of points in cluster -> ndarray of points\n",
    "            cluster_pts = np.array(cluster)\n",
    "            # Take the average of all points (aka along the rows, axis=0)\n",
    "            # associated with the current centroid, and\n",
    "            # use that as the new centroid.\n",
    "            avg = np.sum(cluster_pts, axis=0) / cluster_pts.shape[0]\n",
    "            new_centers[center_idx] = avg\n",
    "        self.centers = new_centers\n",
    "\n",
    "    def run(self, num_iters=10):\n",
    "        \"\"\"\n",
    "        Runs K-means++ for num_iters iterations, or until\n",
    "        centroids converge.\n",
    "        \"\"\"\n",
    "        for i in range(num_iters):\n",
    "            old_centroids = deepcopy(self.centers)\n",
    "            self._update_centroids()\n",
    "            if i != 0:\n",
    "                if self.centers == old_centroids:\n",
    "                    break\n",
    "        return zip(self.centers, list(self.clusters.values()))\n"
   ]
  },
  {
   "cell_type": "markdown",
   "metadata": {},
   "source": [
    "### Part 3\n",
    "\n",
    "Download the data `iris_data.csv` from Canvas. Plot Sepal Width vs. Sepal Length."
   ]
  },
  {
   "cell_type": "code",
   "execution_count": 4,
   "metadata": {
    "collapsed": false
   },
   "outputs": [
    {
     "data": {
      "text/html": [
       "<div>\n",
       "<table border=\"1\" class=\"dataframe\">\n",
       "  <thead>\n",
       "    <tr style=\"text-align: right;\">\n",
       "      <th></th>\n",
       "      <th>Sepal.Length</th>\n",
       "      <th>Sepal.Width</th>\n",
       "      <th>Petal.Length</th>\n",
       "      <th>Petal.Width</th>\n",
       "      <th>Species</th>\n",
       "    </tr>\n",
       "  </thead>\n",
       "  <tbody>\n",
       "    <tr>\n",
       "      <th>1</th>\n",
       "      <td>5.1</td>\n",
       "      <td>3.5</td>\n",
       "      <td>1.4</td>\n",
       "      <td>0.2</td>\n",
       "      <td>setosa</td>\n",
       "    </tr>\n",
       "    <tr>\n",
       "      <th>2</th>\n",
       "      <td>4.9</td>\n",
       "      <td>3.0</td>\n",
       "      <td>1.4</td>\n",
       "      <td>0.2</td>\n",
       "      <td>setosa</td>\n",
       "    </tr>\n",
       "    <tr>\n",
       "      <th>3</th>\n",
       "      <td>4.7</td>\n",
       "      <td>3.2</td>\n",
       "      <td>1.3</td>\n",
       "      <td>0.2</td>\n",
       "      <td>setosa</td>\n",
       "    </tr>\n",
       "    <tr>\n",
       "      <th>4</th>\n",
       "      <td>4.6</td>\n",
       "      <td>3.1</td>\n",
       "      <td>1.5</td>\n",
       "      <td>0.2</td>\n",
       "      <td>setosa</td>\n",
       "    </tr>\n",
       "    <tr>\n",
       "      <th>5</th>\n",
       "      <td>5.0</td>\n",
       "      <td>3.6</td>\n",
       "      <td>1.4</td>\n",
       "      <td>0.2</td>\n",
       "      <td>setosa</td>\n",
       "    </tr>\n",
       "  </tbody>\n",
       "</table>\n",
       "</div>"
      ],
      "text/plain": [
       "   Sepal.Length  Sepal.Width  Petal.Length  Petal.Width Species\n",
       "1           5.1          3.5           1.4          0.2  setosa\n",
       "2           4.9          3.0           1.4          0.2  setosa\n",
       "3           4.7          3.2           1.3          0.2  setosa\n",
       "4           4.6          3.1           1.5          0.2  setosa\n",
       "5           5.0          3.6           1.4          0.2  setosa"
      ]
     },
     "execution_count": 4,
     "metadata": {},
     "output_type": "execute_result"
    }
   ],
   "source": [
    "iris = pd.read_csv('iris_data.csv')\n",
    "\n",
    "iris.head()"
   ]
  },
  {
   "cell_type": "code",
   "execution_count": 5,
   "metadata": {
    "collapsed": false
   },
   "outputs": [
    {
     "data": {
      "text/plain": [
       "<matplotlib.text.Text at 0x7fd08c62dd68>"
      ]
     },
     "execution_count": 5,
     "metadata": {},
     "output_type": "execute_result"
    },
    {
     "data": {
      "image/png": "[encoded data removed]",
      "text/plain": [
       "<matplotlib.figure.Figure at 0x7fd08eb45c18>"
      ]
     },
     "metadata": {},
     "output_type": "display_data"
    }
   ],
   "source": [
    "plt.scatter(iris['Sepal.Width'], iris['Sepal.Length'])\n",
    "plt.title('Width v. Length')\n",
    "plt.xlabel('Sepal Width')\n",
    "plt.ylabel('Sepal Length')"
   ]
  },
  {
   "cell_type": "code",
   "execution_count": 6,
   "metadata": {
    "collapsed": false
   },
   "outputs": [
    {
     "data": {
      "text/html": [
       "<div>\n",
       "<table border=\"1\" class=\"dataframe\">\n",
       "  <thead>\n",
       "    <tr style=\"text-align: right;\">\n",
       "      <th></th>\n",
       "      <th>Sepal.Length</th>\n",
       "      <th>Sepal.Width</th>\n",
       "    </tr>\n",
       "  </thead>\n",
       "  <tbody>\n",
       "    <tr>\n",
       "      <th>1</th>\n",
       "      <td>5.1</td>\n",
       "      <td>3.5</td>\n",
       "    </tr>\n",
       "    <tr>\n",
       "      <th>2</th>\n",
       "      <td>4.9</td>\n",
       "      <td>3.0</td>\n",
       "    </tr>\n",
       "    <tr>\n",
       "      <th>3</th>\n",
       "      <td>4.7</td>\n",
       "      <td>3.2</td>\n",
       "    </tr>\n",
       "    <tr>\n",
       "      <th>4</th>\n",
       "      <td>4.6</td>\n",
       "      <td>3.1</td>\n",
       "    </tr>\n",
       "    <tr>\n",
       "      <th>5</th>\n",
       "      <td>5.0</td>\n",
       "      <td>3.6</td>\n",
       "    </tr>\n",
       "  </tbody>\n",
       "</table>\n",
       "</div>"
      ],
      "text/plain": [
       "   Sepal.Length  Sepal.Width\n",
       "1           5.1          3.5\n",
       "2           4.9          3.0\n",
       "3           4.7          3.2\n",
       "4           4.6          3.1\n",
       "5           5.0          3.6"
      ]
     },
     "execution_count": 6,
     "metadata": {},
     "output_type": "execute_result"
    }
   ],
   "source": [
    "iris_X = iris.drop(['Species', 'Petal.Length', 'Petal.Width'], axis=1)\n",
    "iris_X.head(5)"
   ]
  },
  {
   "cell_type": "markdown",
   "metadata": {},
   "source": [
    "### Part 4\n",
    "\n",
    "Use your K-Means++ algorithm to cluster the above two variables into 2, 3, 4, and 5 clusters."
   ]
  },
  {
   "cell_type": "code",
   "execution_count": 7,
   "metadata": {
    "collapsed": true
   },
   "outputs": [],
   "source": [
    "def show_clusters(clusters, reverse=False):\n",
    "    fig = plt.figure()\n",
    "    colors = ['r', 'b', 'g', 'm', 'y']\n",
    "    for i, cluster in enumerate(list(clusters)):\n",
    "        _, points = cluster\n",
    "        # Seperate into x and y\n",
    "        if not reverse:\n",
    "            x = [point[1] for point in points]\n",
    "            y = [point[0] for point in points]\n",
    "        else:\n",
    "            x = [point[0] for point in points]\n",
    "            y = [point[1] for point in points]\n",
    "\n",
    "        ax1 = fig.add_subplot(2, 1, 1)\n",
    "        ax1.scatter(x, y, c=colors[i])\n",
    "\n",
    "    plt.show()"
   ]
  },
  {
   "cell_type": "code",
   "execution_count": 8,
   "metadata": {
    "collapsed": false
   },
   "outputs": [
    {
     "data": {
      "image/png": "[encoded data removed]",
      "text/plain": [
       "<matplotlib.figure.Figure at 0x7fd08c0eb588>"
      ]
     },
     "metadata": {},
     "output_type": "display_data"
    }
   ],
   "source": [
    "from kmeanspp import KMeansPP\n",
    "\n",
    "model = KMeansPP(iris_X, 2)\n",
    "clusters_2 = model.run(num_iters=25)\n",
    "show_clusters(clusters_2)"
   ]
  },
  {
   "cell_type": "code",
   "execution_count": 9,
   "metadata": {
    "collapsed": false
   },
   "outputs": [
    {
     "data": {
      "image/png": "[encoded data removed]",
      "text/plain": [
       "<matplotlib.figure.Figure at 0x7fd08c0c4c50>"
      ]
     },
     "metadata": {},
     "output_type": "display_data"
    }
   ],
   "source": [
    "model = KMeansPP(iris_X, 3)\n",
    "clusters_3 = model.run(num_iters=25)\n",
    "show_clusters(clusters_3)"
   ]
  },
  {
   "cell_type": "code",
   "execution_count": 10,
   "metadata": {
    "collapsed": false
   },
   "outputs": [
    {
     "data": {
      "image/png": "[encoded data removed]",
      "text/plain": [
       "<matplotlib.figure.Figure at 0x7fd08c0da198>"
      ]
     },
     "metadata": {},
     "output_type": "display_data"
    }
   ],
   "source": [
    "model = KMeansPP(iris_X, 4)\n",
    "clusters_4 = model.run(num_iters=25)\n",
    "show_clusters(clusters_4)"
   ]
  },
  {
   "cell_type": "code",
   "execution_count": 11,
   "metadata": {
    "collapsed": false
   },
   "outputs": [
    {
     "data": {
      "image/png": "[encoded data removed]",
      "text/plain": [
       "<matplotlib.figure.Figure at 0x7fd08c03a0f0>"
      ]
     },
     "metadata": {},
     "output_type": "display_data"
    }
   ],
   "source": [
    "model = KMeansPP(iris_X, 5)\n",
    "clusters_5 = model.run(num_iters=25)\n",
    "show_clusters(clusters_5)"
   ]
  },
  {
   "cell_type": "markdown",
   "metadata": {},
   "source": [
    "# Problem 2: Spectral Clustering\n",
    "\n",
    "Spectral clustering, as described in class, is a powerful and much-used algorithm. A very in-depth tutorial can be found here: http://www.cs.cmu.edu/~aarti/Class/10701/readings/Luxburg06_TR.pdf. In class we discussed the application of spectral clustering to a given graph. But we can also apply it to other data sets, by turning them into weighted graphs. This can be done in several ways, but roughly speaking, we convert by means of a similarity function: two nodes have an edge between them with weight equal to their similiarity. Read section 2 of the above tutorial on different ways to create the similiarity graph. Then read section 4 on the different graph clustering algorithms, especically focusing on the one by Ng, Jordan and Weiss (2002). This is the one we discussed in class.\n",
    "\n",
    "### Part 1\n",
    "\n",
    "Implement the Ng, Jordan and Weiss spectral clustering algorithm. You may use basic linear algebra functions, including SVD and eigenvalue decomposition, but do not use `sklearn.cluster.spectral.clustering` or anything similar. Of course, you can use your K-Means algorithm from above for the last step."
   ]
  },
  {
   "cell_type": "code",
   "execution_count": 12,
   "metadata": {
    "collapsed": false
   },
   "outputs": [],
   "source": [
    "# %load spectral_clustering.py\n",
    "import numpy as np\n",
    "import pandas as pd\n",
    "from numpy import linalg as LA\n",
    "from collections import defaultdict\n",
    "from copy import deepcopy\n",
    "\n",
    "\n",
    "class SpectralCluster(object):\n",
    "    def __init__(self, df, k, sigma=1):\n",
    "        \"\"\"\n",
    "        Given a pandas dataframe and the of clusters,\n",
    "        Initializes spectral clustering to its initial K centroids\n",
    "        via uniform random sampling (without replacement).\n",
    "\n",
    "        Params:\n",
    "            df - pandas dataframe containing points to be clustered\n",
    "            k - number of clusters to form\n",
    "            sigma - scaling parameter.\n",
    "        \"\"\"\n",
    "\n",
    "        # Implemented against the following paper from 2001:\n",
    "        # http://ai.stanford.edu/~ang/papers/nips01-spectral.pdf\n",
    "\n",
    "        self.k = np.min(k, df.shape[0])\n",
    "        self.orig_points = df.as_matrix()\n",
    "        self.centers = None  # Centroids in spectral subspace\n",
    "        self.points = None  # Points in spectral subspace\n",
    "\n",
    "        self._spectral_init(sigma)\n",
    "        self.clusters = defaultdict(list)\n",
    "\n",
    "    def _spectral_init(self, sigma):\n",
    "        \"\"\" Map the original dataset onto the spectral\n",
    "        subspace and find the initial centroids in the subspace.\n",
    "        \"\"\"\n",
    "        # Form the affinity matrix A\n",
    "        n = self.orig_points.shape[0]  # Number of points.\n",
    "        points = self.orig_points\n",
    "        A = points.reshape(1, -1).T ** 2 - np.tile(points, (n, 1)) ** 2\n",
    "        A = np.exp(-A / (2 * np.power(sigma, 2)))\n",
    "        np.fill_diagonal(A, 0)\n",
    "\n",
    "        # Find the Laplacian matrix L, which is equal to D^(-1/2)AD^(-1/2),\n",
    "        # where D is defined as a diagonal matrix with diagonal entries equal\n",
    "        # to the sums of the rows of A.\n",
    "        D = np.diag(A.sum(axis=1))\n",
    "        D_sqrt_recip = np.reciprocal(np.power(D, .5))  # D^(-1/2)\n",
    "        L = D_sqrt_recip @ A @ D_sqrt_recip\n",
    "        w, v = LA.eig(L)  # Eigenvalues and eigenvectors of L\n",
    "        eig_pairs = list(zip(w, v))\n",
    "\n",
    "        # Sort eigenvalue/eigenvector pairs from high to low\n",
    "        # eigenvecs should be orthogonal because L should be a symmetric matrix\n",
    "        # spectral clustering assumes this to be true.\n",
    "        eig_pairs.sort(key=lambda x: x[0], reverse=True)\n",
    "        # only keep k largest eigenvectors\n",
    "        k_largest_w = [v for w, v in eig_pairs[:self.k]]\n",
    "        # Convert list into a ndarray, where eigenvectors are the column vecs\n",
    "        # of the matrix sorted greatest->least as column index increases\n",
    "        # (left->right)\n",
    "        X = np.array(k_largest_w).T\n",
    "\n",
    "        # Form the matrix Y from X by renormalizing each of X's rows to have\n",
    "        # unit length.\n",
    "        Y = X / np.sqrt((X ** 2).sum(axis=1))\n",
    "        self.points = Y\n",
    "        self.centers = pd.DataFrame(Y).sample(self._k).as_matrix()\n",
    "\n",
    "    def _find_center(self, p):\n",
    "        \"\"\" Calculates the closest center for a point based\n",
    "        on Euclidean distance.\n",
    "\n",
    "        Args:\n",
    "            p - index of a point within self.points\n",
    "\n",
    "        Returns:\n",
    "            Index of the center closest to current pixel\n",
    "        \"\"\"\n",
    "        center_dists = np.linalg.norm(self.points[p] - self.centers, axis=1)\n",
    "        return np.argmin(center_dists)\n",
    "\n",
    "    def _assign(self):\n",
    "        \"\"\"Assign each point to its nearest centroid.\"\"\"\n",
    "        clusters = defaultdict(list)\n",
    "        for p_idx, p in enumerate(self.points):\n",
    "            center_idx = self._find_center(p)\n",
    "            clusters[center_idx].append(p_idx)\n",
    "        self.clusters = clusters\n",
    "\n",
    "    def update_centroids(self):\n",
    "        \"\"\" Update centroids for a single iteration of k-means.\"\"\"\n",
    "        self._assign()\n",
    "        new_centers = np.zeros(self.centers.shape)\n",
    "        # Recompute new centroids\n",
    "        for center_idx, cluster in sorted(self.clusters).items():\n",
    "            # transform list of point indices in cluster -> ndarray of points\n",
    "            cluster_pts = np.array([self.points[p_idx] for p_idx in cluster])\n",
    "            # Take the average of all points (aka along the rows, axis=0)\n",
    "            # associated with the current centroid, and\n",
    "            # use that as the new centroid.\n",
    "            avg = np.sum(cluster_pts, axis=0) / cluster_pts.shape[0]\n",
    "            new_centers[center_idx] = avg\n",
    "        self.centers = new_centers\n",
    "\n",
    "    def _spectral_to_original(self):\n",
    "        \"\"\" Map the spectral clustering back to the original\n",
    "        data points.\n",
    "\n",
    "        Return:\n",
    "            Clustering of points in original space.\n",
    "        \"\"\"\n",
    "        # embedding is a nested list containing the indices of the points\n",
    "        # that belong to each cluster.\n",
    "        embedding = self.clusters.values()\n",
    "        orig_clustering = [[self.orig_points[p_idx] for p_idx in cluster]\n",
    "                           for cluster in embedding]\n",
    "        return orig_clustering\n",
    "\n",
    "    def run(self, num_iters=10):\n",
    "        \"\"\"\n",
    "        Runs K-means for num_iters iterations, or until\n",
    "        centroids converge.\n",
    "        \"\"\"\n",
    "        for i in range(num_iters):\n",
    "            old_centroids = deepcopy(self.centers)\n",
    "            self.update_centroids()\n",
    "            if i != 0:\n",
    "                if self.centers == old_centroids:\n",
    "                    break\n",
    "        # Map clustering in spectral subspace back to original dataset\n",
    "        return zip(self.centers, self._spectral_to_original())"
   ]
  },
  {
   "cell_type": "markdown",
   "metadata": {},
   "source": [
    "### Part 2\n",
    "\n",
    "Write a program that generates N data points uniformly at random on two concentric rings, and then add two-dimensional Gaussian noise of variance $\\sigma_1^2$ and $\\sigma_2^2$ to each point. There are four parameters of interest here: the number of points, the difference in the radii of the two rings, the amount (the variance) of noise added to the internal ring, and the amount of noise added to the external ring."
   ]
  },
  {
   "cell_type": "code",
   "execution_count": null,
   "metadata": {
    "collapsed": true
   },
   "outputs": [],
   "source": []
  },
  {
   "cell_type": "markdown",
   "metadata": {},
   "source": [
    "### Part 3\n",
    "\n",
    "Experiement with the 3 methods of creating similarity functions described in section 2 of the paper. Pick one that you like (clearly state which one), and fixing $N = 500$ and $\\sigma_1 = \\sigma_2 = 1$, and also the radius of the inner ring to be $1$, find the range of the outer ring radius for which spectral clustering, using your chosen similarity function, succeeds in clustering the two different rings. Note that you will be using $k = 2$ in your spectral clustering algorithm."
   ]
  },
  {
   "cell_type": "code",
   "execution_count": null,
   "metadata": {
    "collapsed": true
   },
   "outputs": [],
   "source": []
  },
  {
   "cell_type": "markdown",
   "metadata": {},
   "source": [
    "# Problem 3: Spectral Clustering vs. K-Means\n",
    "\n",
    "### Part 1\n",
    "\n",
    "Load the data from the two-dimenstional `two_moons.csv` and the three-dimensional `linked_chains.csv`. Each row represents a point. Note that the first column gives the ground truth - the cluster identity of each point - and so can be ignored. Plot each in 2d and 3d respectively, so you can see what is going on. "
   ]
  },
  {
   "cell_type": "code",
   "execution_count": 13,
   "metadata": {
    "collapsed": false
   },
   "outputs": [
    {
     "data": {
      "text/html": [
       "<div>\n",
       "<table border=\"1\" class=\"dataframe\">\n",
       "  <thead>\n",
       "    <tr style=\"text-align: right;\">\n",
       "      <th></th>\n",
       "      <th>0</th>\n",
       "      <th>1</th>\n",
       "      <th>2</th>\n",
       "    </tr>\n",
       "  </thead>\n",
       "  <tbody>\n",
       "    <tr>\n",
       "      <th>0</th>\n",
       "      <td>2.0</td>\n",
       "      <td>0.250844</td>\n",
       "      <td>-0.001121</td>\n",
       "    </tr>\n",
       "    <tr>\n",
       "      <th>1</th>\n",
       "      <td>2.0</td>\n",
       "      <td>0.221185</td>\n",
       "      <td>0.008294</td>\n",
       "    </tr>\n",
       "    <tr>\n",
       "      <th>2</th>\n",
       "      <td>2.0</td>\n",
       "      <td>0.257351</td>\n",
       "      <td>-0.052437</td>\n",
       "    </tr>\n",
       "    <tr>\n",
       "      <th>3</th>\n",
       "      <td>2.0</td>\n",
       "      <td>0.197335</td>\n",
       "      <td>-0.030503</td>\n",
       "    </tr>\n",
       "    <tr>\n",
       "      <th>4</th>\n",
       "      <td>2.0</td>\n",
       "      <td>0.256422</td>\n",
       "      <td>-0.019958</td>\n",
       "    </tr>\n",
       "  </tbody>\n",
       "</table>\n",
       "</div>"
      ],
      "text/plain": [
       "     0         1         2\n",
       "0  2.0  0.250844 -0.001121\n",
       "1  2.0  0.221185  0.008294\n",
       "2  2.0  0.257351 -0.052437\n",
       "3  2.0  0.197335 -0.030503\n",
       "4  2.0  0.256422 -0.019958"
      ]
     },
     "execution_count": 13,
     "metadata": {},
     "output_type": "execute_result"
    }
   ],
   "source": [
    "moons = pd.read_csv('two_moons.csv', header=None)\n",
    "moons.head()"
   ]
  },
  {
   "cell_type": "code",
   "execution_count": 14,
   "metadata": {
    "collapsed": false
   },
   "outputs": [
    {
     "data": {
      "text/plain": [
       "<matplotlib.text.Text at 0x7fd08beef160>"
      ]
     },
     "execution_count": 14,
     "metadata": {},
     "output_type": "execute_result"
    },
    {
     "data": {
      "image/png": "[encoded data removed]",
      "text/plain": [
       "<matplotlib.figure.Figure at 0x7fd0a1e5ab70>"
      ]
     },
     "metadata": {},
     "output_type": "display_data"
    }
   ],
   "source": [
    "plt.scatter(moons[1], moons[2])\n",
    "plt.title('Two Moons CSV')"
   ]
  },
  {
   "cell_type": "code",
   "execution_count": 15,
   "metadata": {
    "collapsed": false
   },
   "outputs": [
    {
     "data": {
      "text/html": [
       "<div>\n",
       "<table border=\"1\" class=\"dataframe\">\n",
       "  <thead>\n",
       "    <tr style=\"text-align: right;\">\n",
       "      <th></th>\n",
       "      <th>0</th>\n",
       "      <th>1</th>\n",
       "      <th>2</th>\n",
       "      <th>3</th>\n",
       "    </tr>\n",
       "  </thead>\n",
       "  <tbody>\n",
       "    <tr>\n",
       "      <th>0</th>\n",
       "      <td>1.0</td>\n",
       "      <td>-0.424914</td>\n",
       "      <td>-0.879778</td>\n",
       "      <td>0.019944</td>\n",
       "    </tr>\n",
       "    <tr>\n",
       "      <th>1</th>\n",
       "      <td>1.0</td>\n",
       "      <td>0.609164</td>\n",
       "      <td>-0.851496</td>\n",
       "      <td>0.018148</td>\n",
       "    </tr>\n",
       "    <tr>\n",
       "      <th>2</th>\n",
       "      <td>1.0</td>\n",
       "      <td>0.370662</td>\n",
       "      <td>0.258447</td>\n",
       "      <td>-0.002878</td>\n",
       "    </tr>\n",
       "    <tr>\n",
       "      <th>3</th>\n",
       "      <td>1.0</td>\n",
       "      <td>0.087514</td>\n",
       "      <td>0.347741</td>\n",
       "      <td>0.004298</td>\n",
       "    </tr>\n",
       "    <tr>\n",
       "      <th>4</th>\n",
       "      <td>1.0</td>\n",
       "      <td>0.488615</td>\n",
       "      <td>-0.911575</td>\n",
       "      <td>0.033750</td>\n",
       "    </tr>\n",
       "  </tbody>\n",
       "</table>\n",
       "</div>"
      ],
      "text/plain": [
       "     0         1         2         3\n",
       "0  1.0 -0.424914 -0.879778  0.019944\n",
       "1  1.0  0.609164 -0.851496  0.018148\n",
       "2  1.0  0.370662  0.258447 -0.002878\n",
       "3  1.0  0.087514  0.347741  0.004298\n",
       "4  1.0  0.488615 -0.911575  0.033750"
      ]
     },
     "execution_count": 15,
     "metadata": {},
     "output_type": "execute_result"
    }
   ],
   "source": [
    "chains = pd.read_csv('linked_chains.csv', header=None)\n",
    "chains.head()"
   ]
  },
  {
   "cell_type": "code",
   "execution_count": 16,
   "metadata": {
    "collapsed": false
   },
   "outputs": [
    {
     "name": "stderr",
     "output_type": "stream",
     "text": [
      "/home/aetherzephyr/anaconda3/lib/python3.5/site-packages/matplotlib/figure.py:397: UserWarning: matplotlib is currently using a non-GUI backend, so cannot show the figure\n",
      "  \"matplotlib is currently using a non-GUI backend, \"\n"
     ]
    },
    {
     "data": {
      "image/png": "[encoded data removed]",
      "text/plain": [
       "<matplotlib.figure.Figure at 0x7fd08bee0080>"
      ]
     },
     "metadata": {},
     "output_type": "display_data"
    }
   ],
   "source": [
    "fig = plt.figure()\n",
    "ax = fig.add_subplot(111, projection='3d')\n",
    "ax.scatter(chains[1], chains[2], chains[3], label='Linked Chains')\n",
    "plt.title('Linked Chains')\n",
    "fig.show()"
   ]
  },
  {
   "cell_type": "markdown",
   "metadata": {},
   "source": [
    "### Part 2\n",
    "\n",
    "Run K-Means on both. How do you do?"
   ]
  },
  {
   "cell_type": "code",
   "execution_count": 17,
   "metadata": {
    "collapsed": false
   },
   "outputs": [
    {
     "data": {
      "text/html": [
       "<div>\n",
       "<table border=\"1\" class=\"dataframe\">\n",
       "  <thead>\n",
       "    <tr style=\"text-align: right;\">\n",
       "      <th></th>\n",
       "      <th>1</th>\n",
       "      <th>2</th>\n",
       "    </tr>\n",
       "  </thead>\n",
       "  <tbody>\n",
       "    <tr>\n",
       "      <th>0</th>\n",
       "      <td>0.250844</td>\n",
       "      <td>-0.001121</td>\n",
       "    </tr>\n",
       "    <tr>\n",
       "      <th>1</th>\n",
       "      <td>0.221185</td>\n",
       "      <td>0.008294</td>\n",
       "    </tr>\n",
       "    <tr>\n",
       "      <th>2</th>\n",
       "      <td>0.257351</td>\n",
       "      <td>-0.052437</td>\n",
       "    </tr>\n",
       "    <tr>\n",
       "      <th>3</th>\n",
       "      <td>0.197335</td>\n",
       "      <td>-0.030503</td>\n",
       "    </tr>\n",
       "    <tr>\n",
       "      <th>4</th>\n",
       "      <td>0.256422</td>\n",
       "      <td>-0.019958</td>\n",
       "    </tr>\n",
       "  </tbody>\n",
       "</table>\n",
       "</div>"
      ],
      "text/plain": [
       "          1         2\n",
       "0  0.250844 -0.001121\n",
       "1  0.221185  0.008294\n",
       "2  0.257351 -0.052437\n",
       "3  0.197335 -0.030503\n",
       "4  0.256422 -0.019958"
      ]
     },
     "execution_count": 17,
     "metadata": {},
     "output_type": "execute_result"
    }
   ],
   "source": [
    "moons_X = moons.drop(0, axis=1)\n",
    "moons_X.head()"
   ]
  },
  {
   "cell_type": "code",
   "execution_count": 18,
   "metadata": {
    "collapsed": false
   },
   "outputs": [
    {
     "data": {
      "image/png": "[encoded data removed]",
      "text/plain": [
       "<matplotlib.figure.Figure at 0x7fd08bf48908>"
      ]
     },
     "metadata": {},
     "output_type": "display_data"
    }
   ],
   "source": [
    "model = KMeansPP(moons_X, 2)\n",
    "moon_clusters = model.run(num_iters=20)\n",
    "show_clusters(moon_clusters, reverse=True)"
   ]
  },
  {
   "cell_type": "markdown",
   "metadata": {},
   "source": [
    "Clearly, K-Means does not do a very good job clustering the Moons dataset."
   ]
  },
  {
   "cell_type": "code",
   "execution_count": 19,
   "metadata": {
    "collapsed": false
   },
   "outputs": [
    {
     "data": {
      "text/html": [
       "<div>\n",
       "<table border=\"1\" class=\"dataframe\">\n",
       "  <thead>\n",
       "    <tr style=\"text-align: right;\">\n",
       "      <th></th>\n",
       "      <th>1</th>\n",
       "      <th>2</th>\n",
       "      <th>3</th>\n",
       "    </tr>\n",
       "  </thead>\n",
       "  <tbody>\n",
       "    <tr>\n",
       "      <th>0</th>\n",
       "      <td>-0.424914</td>\n",
       "      <td>-0.879778</td>\n",
       "      <td>0.019944</td>\n",
       "    </tr>\n",
       "    <tr>\n",
       "      <th>1</th>\n",
       "      <td>0.609164</td>\n",
       "      <td>-0.851496</td>\n",
       "      <td>0.018148</td>\n",
       "    </tr>\n",
       "    <tr>\n",
       "      <th>2</th>\n",
       "      <td>0.370662</td>\n",
       "      <td>0.258447</td>\n",
       "      <td>-0.002878</td>\n",
       "    </tr>\n",
       "    <tr>\n",
       "      <th>3</th>\n",
       "      <td>0.087514</td>\n",
       "      <td>0.347741</td>\n",
       "      <td>0.004298</td>\n",
       "    </tr>\n",
       "    <tr>\n",
       "      <th>4</th>\n",
       "      <td>0.488615</td>\n",
       "      <td>-0.911575</td>\n",
       "      <td>0.033750</td>\n",
       "    </tr>\n",
       "  </tbody>\n",
       "</table>\n",
       "</div>"
      ],
      "text/plain": [
       "          1         2         3\n",
       "0 -0.424914 -0.879778  0.019944\n",
       "1  0.609164 -0.851496  0.018148\n",
       "2  0.370662  0.258447 -0.002878\n",
       "3  0.087514  0.347741  0.004298\n",
       "4  0.488615 -0.911575  0.033750"
      ]
     },
     "execution_count": 19,
     "metadata": {},
     "output_type": "execute_result"
    }
   ],
   "source": [
    "chains_X = chains.drop(0, axis=1)\n",
    "chains_X.head()"
   ]
  },
  {
   "cell_type": "code",
   "execution_count": 20,
   "metadata": {
    "collapsed": false
   },
   "outputs": [
    {
     "data": {
      "image/png": "[encoded data removed]",
      "text/plain": [
       "<matplotlib.figure.Figure at 0x7fd08bfd0b70>"
      ]
     },
     "metadata": {},
     "output_type": "display_data"
    }
   ],
   "source": [
    "model = KMeansPP(chains_X, 2)\n",
    "chain_clusters = model.run(num_iters=20)\n",
    "show_clusters(chain_clusters, reverse=True)"
   ]
  },
  {
   "cell_type": "markdown",
   "metadata": {},
   "source": [
    "Again, based on this plot we can see that K-Means doesn't do a good job of clustering the chains. The clusters were done in 3D but the plot is shown in 2D."
   ]
  },
  {
   "cell_type": "markdown",
   "metadata": {},
   "source": [
    "### Part 3\n",
    "\n",
    "Find the best similarity function you can, and run Spectral Clustering. Which is better?"
   ]
  },
  {
   "cell_type": "code",
   "execution_count": 21,
   "metadata": {
    "collapsed": false
   },
   "outputs": [
    {
     "ename": "ValueError",
     "evalue": "'axis' entry is out of bounds",
     "output_type": "error",
     "traceback": [
      "\u001b[1;31m---------------------------------------------------------------------------\u001b[0m",
      "\u001b[1;31mAttributeError\u001b[0m                            Traceback (most recent call last)",
      "\u001b[1;32m/home/aetherzephyr/anaconda3/lib/python3.5/site-packages/numpy/core/fromnumeric.py\u001b[0m in \u001b[0;36mamin\u001b[1;34m(a, axis, out, keepdims)\u001b[0m\n\u001b[0;32m   2350\u001b[0m         \u001b[1;32mtry\u001b[0m\u001b[1;33m:\u001b[0m\u001b[1;33m\u001b[0m\u001b[0m\n\u001b[1;32m-> 2351\u001b[1;33m             \u001b[0mamin\u001b[0m \u001b[1;33m=\u001b[0m \u001b[0ma\u001b[0m\u001b[1;33m.\u001b[0m\u001b[0mmin\u001b[0m\u001b[1;33m\u001b[0m\u001b[0m\n\u001b[0m\u001b[0;32m   2352\u001b[0m         \u001b[1;32mexcept\u001b[0m \u001b[0mAttributeError\u001b[0m\u001b[1;33m:\u001b[0m\u001b[1;33m\u001b[0m\u001b[0m\n",
      "\u001b[1;31mAttributeError\u001b[0m: 'int' object has no attribute 'min'",
      "\nDuring handling of the above exception, another exception occurred:\n",
      "\u001b[1;31mValueError\u001b[0m                                Traceback (most recent call last)",
      "\u001b[1;32m<ipython-input-21-6e0a6c95efd2>\u001b[0m in \u001b[0;36m<module>\u001b[1;34m()\u001b[0m\n\u001b[1;32m----> 1\u001b[1;33m \u001b[0mmodel\u001b[0m \u001b[1;33m=\u001b[0m \u001b[0mSpectralCluster\u001b[0m\u001b[1;33m(\u001b[0m\u001b[0mmoons_X\u001b[0m\u001b[1;33m,\u001b[0m \u001b[1;36m2\u001b[0m\u001b[1;33m)\u001b[0m\u001b[1;33m\u001b[0m\u001b[0m\n\u001b[0m\u001b[0;32m      2\u001b[0m \u001b[0mmoon_clusters_spectral\u001b[0m \u001b[1;33m=\u001b[0m \u001b[0mmodel\u001b[0m\u001b[1;33m.\u001b[0m\u001b[0mrun\u001b[0m\u001b[1;33m(\u001b[0m\u001b[1;33m)\u001b[0m\u001b[1;33m\u001b[0m\u001b[0m\n\u001b[0;32m      3\u001b[0m \u001b[0mshow_clusters\u001b[0m\u001b[1;33m(\u001b[0m\u001b[0mmoon_clusters_spectral\u001b[0m\u001b[1;33m,\u001b[0m \u001b[0mreverse\u001b[0m\u001b[1;33m=\u001b[0m\u001b[1;32mTrue\u001b[0m\u001b[1;33m)\u001b[0m\u001b[1;33m\u001b[0m\u001b[0m\n",
      "\u001b[1;32m<ipython-input-12-e3c74e01dc71>\u001b[0m in \u001b[0;36m__init__\u001b[1;34m(self, df, k, sigma)\u001b[0m\n\u001b[0;32m     23\u001b[0m         \u001b[1;31m# http://ai.stanford.edu/~ang/papers/nips01-spectral.pdf\u001b[0m\u001b[1;33m\u001b[0m\u001b[1;33m\u001b[0m\u001b[0m\n\u001b[0;32m     24\u001b[0m \u001b[1;33m\u001b[0m\u001b[0m\n\u001b[1;32m---> 25\u001b[1;33m         \u001b[0mself\u001b[0m\u001b[1;33m.\u001b[0m\u001b[0mk\u001b[0m \u001b[1;33m=\u001b[0m \u001b[0mnp\u001b[0m\u001b[1;33m.\u001b[0m\u001b[0mmin\u001b[0m\u001b[1;33m(\u001b[0m\u001b[0mk\u001b[0m\u001b[1;33m,\u001b[0m \u001b[0mdf\u001b[0m\u001b[1;33m.\u001b[0m\u001b[0mshape\u001b[0m\u001b[1;33m[\u001b[0m\u001b[1;36m0\u001b[0m\u001b[1;33m]\u001b[0m\u001b[1;33m)\u001b[0m\u001b[1;33m\u001b[0m\u001b[0m\n\u001b[0m\u001b[0;32m     26\u001b[0m         \u001b[0mself\u001b[0m\u001b[1;33m.\u001b[0m\u001b[0morig_points\u001b[0m \u001b[1;33m=\u001b[0m \u001b[0mdf\u001b[0m\u001b[1;33m.\u001b[0m\u001b[0mas_matrix\u001b[0m\u001b[1;33m(\u001b[0m\u001b[1;33m)\u001b[0m\u001b[1;33m\u001b[0m\u001b[0m\n\u001b[0;32m     27\u001b[0m         \u001b[0mself\u001b[0m\u001b[1;33m.\u001b[0m\u001b[0mcenters\u001b[0m \u001b[1;33m=\u001b[0m \u001b[1;32mNone\u001b[0m  \u001b[1;31m# Centroids in spectral subspace\u001b[0m\u001b[1;33m\u001b[0m\u001b[0m\n",
      "\u001b[1;32m/home/aetherzephyr/anaconda3/lib/python3.5/site-packages/numpy/core/fromnumeric.py\u001b[0m in \u001b[0;36mamin\u001b[1;34m(a, axis, out, keepdims)\u001b[0m\n\u001b[0;32m   2352\u001b[0m         \u001b[1;32mexcept\u001b[0m \u001b[0mAttributeError\u001b[0m\u001b[1;33m:\u001b[0m\u001b[1;33m\u001b[0m\u001b[0m\n\u001b[0;32m   2353\u001b[0m             return _methods._amin(a, axis=axis,\n\u001b[1;32m-> 2354\u001b[1;33m                                   out=out, keepdims=keepdims)\n\u001b[0m\u001b[0;32m   2355\u001b[0m         \u001b[1;31m# NOTE: Dropping the keepdims parameter\u001b[0m\u001b[1;33m\u001b[0m\u001b[1;33m\u001b[0m\u001b[0m\n\u001b[0;32m   2356\u001b[0m         \u001b[1;32mreturn\u001b[0m \u001b[0mamin\u001b[0m\u001b[1;33m(\u001b[0m\u001b[0maxis\u001b[0m\u001b[1;33m=\u001b[0m\u001b[0maxis\u001b[0m\u001b[1;33m,\u001b[0m \u001b[0mout\u001b[0m\u001b[1;33m=\u001b[0m\u001b[0mout\u001b[0m\u001b[1;33m)\u001b[0m\u001b[1;33m\u001b[0m\u001b[0m\n",
      "\u001b[1;32m/home/aetherzephyr/anaconda3/lib/python3.5/site-packages/numpy/core/_methods.py\u001b[0m in \u001b[0;36m_amin\u001b[1;34m(a, axis, out, keepdims)\u001b[0m\n\u001b[0;32m     27\u001b[0m \u001b[1;33m\u001b[0m\u001b[0m\n\u001b[0;32m     28\u001b[0m \u001b[1;32mdef\u001b[0m \u001b[0m_amin\u001b[0m\u001b[1;33m(\u001b[0m\u001b[0ma\u001b[0m\u001b[1;33m,\u001b[0m \u001b[0maxis\u001b[0m\u001b[1;33m=\u001b[0m\u001b[1;32mNone\u001b[0m\u001b[1;33m,\u001b[0m \u001b[0mout\u001b[0m\u001b[1;33m=\u001b[0m\u001b[1;32mNone\u001b[0m\u001b[1;33m,\u001b[0m \u001b[0mkeepdims\u001b[0m\u001b[1;33m=\u001b[0m\u001b[1;32mFalse\u001b[0m\u001b[1;33m)\u001b[0m\u001b[1;33m:\u001b[0m\u001b[1;33m\u001b[0m\u001b[0m\n\u001b[1;32m---> 29\u001b[1;33m     \u001b[1;32mreturn\u001b[0m \u001b[0mumr_minimum\u001b[0m\u001b[1;33m(\u001b[0m\u001b[0ma\u001b[0m\u001b[1;33m,\u001b[0m \u001b[0maxis\u001b[0m\u001b[1;33m,\u001b[0m \u001b[1;32mNone\u001b[0m\u001b[1;33m,\u001b[0m \u001b[0mout\u001b[0m\u001b[1;33m,\u001b[0m \u001b[0mkeepdims\u001b[0m\u001b[1;33m)\u001b[0m\u001b[1;33m\u001b[0m\u001b[0m\n\u001b[0m\u001b[0;32m     30\u001b[0m \u001b[1;33m\u001b[0m\u001b[0m\n\u001b[0;32m     31\u001b[0m \u001b[1;32mdef\u001b[0m \u001b[0m_sum\u001b[0m\u001b[1;33m(\u001b[0m\u001b[0ma\u001b[0m\u001b[1;33m,\u001b[0m \u001b[0maxis\u001b[0m\u001b[1;33m=\u001b[0m\u001b[1;32mNone\u001b[0m\u001b[1;33m,\u001b[0m \u001b[0mdtype\u001b[0m\u001b[1;33m=\u001b[0m\u001b[1;32mNone\u001b[0m\u001b[1;33m,\u001b[0m \u001b[0mout\u001b[0m\u001b[1;33m=\u001b[0m\u001b[1;32mNone\u001b[0m\u001b[1;33m,\u001b[0m \u001b[0mkeepdims\u001b[0m\u001b[1;33m=\u001b[0m\u001b[1;32mFalse\u001b[0m\u001b[1;33m)\u001b[0m\u001b[1;33m:\u001b[0m\u001b[1;33m\u001b[0m\u001b[0m\n",
      "\u001b[1;31mValueError\u001b[0m: 'axis' entry is out of bounds"
     ]
    }
   ],
   "source": [
    "model = SpectralCluster(moons_X, 2)\n",
    "moon_clusters_spectral = model.run()\n",
    "show_clusters(moon_clusters_spectral, reverse=True)"
   ]
  },
  {
   "cell_type": "code",
   "execution_count": null,
   "metadata": {
    "collapsed": false
   },
   "outputs": [],
   "source": [
    "model = SpectralCluster(chains_X, 2)\n",
    "chain_clusters_spectral = model.run()\n",
    "show_clusters(chain_clusters_spectral, reverse=True)"
   ]
  },
  {
   "cell_type": "markdown",
   "metadata": {},
   "source": [
    "# Problem 4: More Spectral Clustering vs. K-Means\n",
    "\n",
    "### Part 1\n",
    "\n",
    "Generate an example where K-Means does better than Spectral Clustering. Explain how you constructed it and why, in addition to showing the plots."
   ]
  },
  {
   "cell_type": "code",
   "execution_count": null,
   "metadata": {
    "collapsed": true
   },
   "outputs": [],
   "source": []
  },
  {
   "cell_type": "markdown",
   "metadata": {},
   "source": [
    "# Problem 5: Computational Complexity and Spectral Clustering\n",
    "\n",
    "### Part 1\n",
    "\n",
    "This is a more open ended question. Computing the eigenvalues and eigenvectors of a matrix is not easy, and the complexity depends on the size of the matrix among other factors. An important factor is the sparsity of the matrix. Which aspects of your algorithm for spectral clustering could affect this? Using one of the examples from above, or another example of your choosing, try to illustrate this pheonomeon."
   ]
  },
  {
   "cell_type": "code",
   "execution_count": null,
   "metadata": {
    "collapsed": true
   },
   "outputs": [],
   "source": []
  }
 ],
 "metadata": {
  "anaconda-cloud": {},
  "kernelspec": {
   "display_name": "Python [Root]",
   "language": "python",
   "name": "Python [Root]"
  },
  "language_info": {
   "codemirror_mode": {
    "name": "ipython",
    "version": 3
   },
   "file_extension": ".py",
   "mimetype": "text/x-python",
   "name": "python",
   "nbconvert_exporter": "python",
   "pygments_lexer": "ipython3",
   "version": "3.5.2"
  }
 },
 "nbformat": 4,
 "nbformat_minor": 0
}
