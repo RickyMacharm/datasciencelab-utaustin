{
 "cells": [
  {
   "cell_type": "markdown",
   "metadata": {},
   "source": [
    "# EE 379K: Lab 6\n",
    "\n",
    "## Rohan Nagar and Wenyang Fu"
   ]
  },
  {
   "cell_type": "code",
   "execution_count": 77,
   "metadata": {
    "collapsed": true
   },
   "outputs": [],
   "source": [
    "import random\n",
    "import numpy as np\n",
    "import pandas as pd\n",
    "import matplotlib as mpl\n",
    "import matplotlib.pyplot as plt\n",
    "\n",
    "from mpl_toolkits.mplot3d import Axes3D\n",
    "\n",
    "%matplotlib inline\n",
    "%load_ext autoreload\n",
    "%autoreload 2"
   ]
  },
  {
   "cell_type": "markdown",
   "metadata": {},
   "source": [
    "# Problem 1: K-Means\n",
    "\n",
    "### Part 1\n",
    "\n",
    "Implement the K-Means algorithm with a random initalization. Recall that there are two steps: given the centers, computing the clusters, and given the clusters, computing the centers. As discussed in class, the second is straightforward. Describe how you do the first step.\n",
    "\n",
    "### Answer\n",
    "\n",
    "You can do the first step with the following basic algorithm. You have a list of the centers and a list of all the points that need to be put in a cluster.\n",
    "\n",
    "For each point, compute the distance (using the same distance metric you have been using) from the point to each center. Choose the distance with the smallest magnitude. All of the points with that center as the closest will form a cluster around that center."
   ]
  },
  {
   "cell_type": "code",
   "execution_count": 75,
   "metadata": {
    "collapsed": true
   },
   "outputs": [],
   "source": [
    "# %load kmeans.py\n",
    "import numpy as np\n",
    "from collections import defaultdict\n",
    "from copy import deepcopy\n",
    "\n",
    "\n",
    "class KMeans(object):\n",
    "    def __init__(self, df, k):\n",
    "        \"\"\"\n",
    "        Given a pandas dataframe and the of clusters,\n",
    "        Initializes k-means to its initial K centroids\n",
    "        via uniform random sampling (without replacement).\n",
    "\n",
    "        Params:\n",
    "            df - pandas dataframe containing points to be clustered\n",
    "            k - number of clusters to form\n",
    "        \"\"\"\n",
    "\n",
    "        # Got some help/inspiration from this StackOverflow link:\n",
    "        # http://stackoverflow.com/questions/5466323/how-exactly-does-k-means-work\n",
    "        # Also read this link (a bit confusing, but helpful too):\n",
    "        # https://datasciencelab.wordpress.com/2014/01/15/improved-seeding-for-clustering-with-k-means/\n",
    "\n",
    "        self.k = np.min(k, df.shape[0])\n",
    "        self.points = df.as_matrix()\n",
    "        self.centers = df.sample(self._k).as_matrix()\n",
    "        self.clusters = defaultdict(list)\n",
    "\n",
    "    def _find_center(self, p):\n",
    "        \"\"\" Calculates the closest center for a point based\n",
    "        on Euclidean distance.\n",
    "\n",
    "        Args:\n",
    "            p - a point within self.points\n",
    "\n",
    "        Returns:\n",
    "            Index of the center closest to current pixel\n",
    "        \"\"\"\n",
    "        center_dists = np.linalg.norm(p - self.centers, axis=1)\n",
    "        return np.argmin(center_dists)\n",
    "\n",
    "    def _assign(self):\n",
    "        \"\"\"Assign each point to its nearest centroid.\"\"\"\n",
    "        clusters = defaultdict(list)\n",
    "        for p in self.points:\n",
    "            center_idx = self._find_center(p)\n",
    "            clusters[center_idx].append(p)\n",
    "        self.clusters = clusters\n",
    "\n",
    "    def update_centroids(self):\n",
    "        \"\"\" Update centroids for a single iteration of k-means.\"\"\"\n",
    "        self._assign()\n",
    "        new_centers = np.zeros(self.centers.shape)\n",
    "        # Recompute new centroids\n",
    "        for center_idx, cluster in sorted(self.clusters).items():\n",
    "            # transform list of points in cluster -> ndarray of points\n",
    "            cluster_pts = np.array(cluster)\n",
    "            # Take the average of all points (aka along the rows, axis=0)\n",
    "            # associated with the current centroid, and\n",
    "            # use that as the new centroid.\n",
    "            avg = np.sum(cluster_pts, axis=0) / cluster_pts.shape[0]\n",
    "            new_centers[center_idx] = avg\n",
    "        self.centers = new_centers\n",
    "\n",
    "    def run(self, num_iters=10):\n",
    "        \"\"\"\n",
    "        Runs K-means++ for num_iters iterations, or until\n",
    "        centroids converge.\n",
    "        \"\"\"\n",
    "        for i in range(num_iters):\n",
    "            old_centroids = deepcopy(self.centers)\n",
    "            self.update_centroids()\n",
    "            if i != 0:\n",
    "                if self.centers == old_centroids:\n",
    "                    break\n",
    "        return zip(self.centers, list(self.clusters.values()))\n"
   ]
  },
  {
   "cell_type": "markdown",
   "metadata": {},
   "source": [
    "### Part 2\n",
    "\n",
    "Now implement K-Means++, i.e., the K-Means++ initalization."
   ]
  },
  {
   "cell_type": "code",
   "execution_count": null,
   "metadata": {
    "collapsed": true
   },
   "outputs": [],
   "source": [
    "# %load kmeanspp.py\n",
    "import numpy as np\n",
    "from collections import defaultdict\n",
    "from copy import deepcopy\n",
    "\n",
    "\n",
    "class KMeansPP(object):\n",
    "    def __init__(self, df, k):\n",
    "        \"\"\"\n",
    "        Given a pandas dataframe and the of clusters,\n",
    "        Initializes k-means to its initial K centroids\n",
    "        via k-means++ init\n",
    "\n",
    "        Params:\n",
    "            df - pandas dataframe containing points to be clustered\n",
    "            k - number of clusters to form\n",
    "        \"\"\"\n",
    "\n",
    "        # Got some help/inspiration from this StackOverflow link:\n",
    "        # http://stackoverflow.com/questions/5466323/how-exactly-does-k-means-work\n",
    "        # Also read this link (a bit confusing, but helpful too):\n",
    "        # https://datasciencelab.wordpress.com/2014/01/15/improved-seeding-for-clustering-with-k-means/\n",
    "\n",
    "        # If the number of points is less than the number\n",
    "        # of clusters, then set k=number of points\n",
    "        self.k = min(k, df.shape[0])\n",
    "        self.points = df.as_matrix()\n",
    "        self.centers = []\n",
    "\n",
    "        # Choose initial center uniformly at random from the points.\n",
    "        c1_index = np.random.randint(low=0, high=self.points.shape[0])\n",
    "        # self.centers[0] = self.points[c1_index]\n",
    "        self.centers.append(self.points[c1_index])\n",
    "\n",
    "        for i in range(1, k):\n",
    "            # For each iteration, Compute the vector containing the square\n",
    "            # distances between all points in the dataset\n",
    "\n",
    "            dist_vec = np.array([min([(c - x) @ (c - x)\n",
    "                                      for c in self.centers])\n",
    "                                 for x in self.points])\n",
    "            # choose each subsequent center from self.points,\n",
    "            # randomly drawn from the normalized probability distribution\n",
    "            # over dist_vec.\n",
    "            probs = dist_vec / dist_vec.sum()\n",
    "            cumprobs = probs.cumsum()\n",
    "            r = np.random.rand()\n",
    "\n",
    "            for j, p in enumerate(cumprobs):\n",
    "                if r < p:\n",
    "                    ci_index = j  # Index of every subsequent centroid\n",
    "                    break\n",
    "            self.centers.append(self.points[ci_index])\n",
    "\n",
    "        self.centers = np.array(self.centers)\n",
    "        self.clusters = defaultdict(list)\n",
    "\n",
    "    def _find_center(self, p):\n",
    "        \"\"\" Calculates the closest center for a point based\n",
    "        on Euclidean distance.\n",
    "\n",
    "        Args:\n",
    "            p - a point within self.points\n",
    "\n",
    "        Returns:\n",
    "            Index of the center closest to current pixel\n",
    "        \"\"\"\n",
    "        center_dists = np.linalg.norm(p - self.centers, axis=1)\n",
    "        return np.argmin(center_dists)\n",
    "\n",
    "    def _assign(self):\n",
    "        \"\"\"Assign each point to its nearest centroid.\"\"\"\n",
    "        clusters = defaultdict(list)\n",
    "        for p in self.points:\n",
    "            center_idx = self._find_center(p)\n",
    "            clusters[center_idx].append(p)\n",
    "        self.clusters = clusters\n",
    "\n",
    "    def _update_centroids(self):\n",
    "        \"\"\" Update centroids for a single iteration of k-means.\"\"\"\n",
    "        self._assign()\n",
    "        new_centers = np.zeros(self.centers.shape)\n",
    "        # Recompute new centroids\n",
    "        for center_idx, cluster in sorted(self.clusters.items()):\n",
    "            # transform list of points in cluster -> ndarray of points\n",
    "            cluster_pts = np.array(cluster)\n",
    "            # Take the average of all points (aka along the rows, axis=0)\n",
    "            # associated with the current centroid, and\n",
    "            # use that as the new centroid.\n",
    "            avg = np.sum(cluster_pts, axis=0) / cluster_pts.shape[0]\n",
    "            new_centers[center_idx] = avg\n",
    "        self.centers = new_centers\n",
    "\n",
    "    def run(self, num_iters=10):\n",
    "        \"\"\"\n",
    "        Runs K-means++ for num_iters iterations, or until\n",
    "        centroids converge.\n",
    "        \"\"\"\n",
    "        for i in range(num_iters):\n",
    "            old_centroids = deepcopy(self.centers)\n",
    "            self._update_centroids()\n",
    "            if i != 0:\n",
    "                if self.centers == old_centroids:\n",
    "                    break\n",
    "        return zip(self.centers, list(self.clusters.values()))\n"
   ]
  },
  {
   "cell_type": "markdown",
   "metadata": {},
   "source": [
    "### Part 3\n",
    "\n",
    "Download the data `iris_data.csv` from Canvas. Plot Sepal Width vs. Sepal Length."
   ]
  },
  {
   "cell_type": "code",
   "execution_count": 15,
   "metadata": {
    "collapsed": false
   },
   "outputs": [
    {
     "data": {
      "text/html": [
       "<div>\n",
       "<table border=\"1\" class=\"dataframe\">\n",
       "  <thead>\n",
       "    <tr style=\"text-align: right;\">\n",
       "      <th></th>\n",
       "      <th>Sepal.Length</th>\n",
       "      <th>Sepal.Width</th>\n",
       "      <th>Petal.Length</th>\n",
       "      <th>Petal.Width</th>\n",
       "      <th>Species</th>\n",
       "    </tr>\n",
       "  </thead>\n",
       "  <tbody>\n",
       "    <tr>\n",
       "      <th>1</th>\n",
       "      <td>5.1</td>\n",
       "      <td>3.5</td>\n",
       "      <td>1.4</td>\n",
       "      <td>0.2</td>\n",
       "      <td>setosa</td>\n",
       "    </tr>\n",
       "    <tr>\n",
       "      <th>2</th>\n",
       "      <td>4.9</td>\n",
       "      <td>3.0</td>\n",
       "      <td>1.4</td>\n",
       "      <td>0.2</td>\n",
       "      <td>setosa</td>\n",
       "    </tr>\n",
       "    <tr>\n",
       "      <th>3</th>\n",
       "      <td>4.7</td>\n",
       "      <td>3.2</td>\n",
       "      <td>1.3</td>\n",
       "      <td>0.2</td>\n",
       "      <td>setosa</td>\n",
       "    </tr>\n",
       "    <tr>\n",
       "      <th>4</th>\n",
       "      <td>4.6</td>\n",
       "      <td>3.1</td>\n",
       "      <td>1.5</td>\n",
       "      <td>0.2</td>\n",
       "      <td>setosa</td>\n",
       "    </tr>\n",
       "    <tr>\n",
       "      <th>5</th>\n",
       "      <td>5.0</td>\n",
       "      <td>3.6</td>\n",
       "      <td>1.4</td>\n",
       "      <td>0.2</td>\n",
       "      <td>setosa</td>\n",
       "    </tr>\n",
       "  </tbody>\n",
       "</table>\n",
       "</div>"
      ],
      "text/plain": [
       "   Sepal.Length  Sepal.Width  Petal.Length  Petal.Width Species\n",
       "1           5.1          3.5           1.4          0.2  setosa\n",
       "2           4.9          3.0           1.4          0.2  setosa\n",
       "3           4.7          3.2           1.3          0.2  setosa\n",
       "4           4.6          3.1           1.5          0.2  setosa\n",
       "5           5.0          3.6           1.4          0.2  setosa"
      ]
     },
     "execution_count": 15,
     "metadata": {},
     "output_type": "execute_result"
    }
   ],
   "source": [
    "iris = pd.read_csv('iris_data.csv')\n",
    "\n",
    "iris.head()"
   ]
  },
  {
   "cell_type": "code",
   "execution_count": 16,
   "metadata": {
    "collapsed": false
   },
   "outputs": [
    {
     "data": {
      "text/plain": [
       "<matplotlib.text.Text at 0x7f39a7bae358>"
      ]
     },
     "execution_count": 16,
     "metadata": {},
     "output_type": "execute_result"
    },
    {
     "data": {
      "image/png": "[encoded data removed]",
      "text/plain": [
       "<matplotlib.figure.Figure at 0x7f39a80cc0b8>"
      ]
     },
     "metadata": {},
     "output_type": "display_data"
    }
   ],
   "source": [
    "plt.scatter(iris['Sepal.Width'], iris['Sepal.Length'])\n",
    "plt.title('Width v. Length')\n",
    "plt.xlabel('Sepal Width')\n",
    "plt.ylabel('Sepal Length')"
   ]
  },
  {
   "cell_type": "code",
   "execution_count": 46,
   "metadata": {
    "collapsed": false
   },
   "outputs": [
    {
     "data": {
      "text/html": [
       "<div>\n",
       "<table border=\"1\" class=\"dataframe\">\n",
       "  <thead>\n",
       "    <tr style=\"text-align: right;\">\n",
       "      <th></th>\n",
       "      <th>Sepal.Length</th>\n",
       "      <th>Sepal.Width</th>\n",
       "      <th>Petal.Length</th>\n",
       "      <th>Petal.Width</th>\n",
       "    </tr>\n",
       "  </thead>\n",
       "  <tbody>\n",
       "    <tr>\n",
       "      <th>1</th>\n",
       "      <td>5.1</td>\n",
       "      <td>3.5</td>\n",
       "      <td>1.4</td>\n",
       "      <td>0.2</td>\n",
       "    </tr>\n",
       "    <tr>\n",
       "      <th>2</th>\n",
       "      <td>4.9</td>\n",
       "      <td>3.0</td>\n",
       "      <td>1.4</td>\n",
       "      <td>0.2</td>\n",
       "    </tr>\n",
       "    <tr>\n",
       "      <th>3</th>\n",
       "      <td>4.7</td>\n",
       "      <td>3.2</td>\n",
       "      <td>1.3</td>\n",
       "      <td>0.2</td>\n",
       "    </tr>\n",
       "    <tr>\n",
       "      <th>4</th>\n",
       "      <td>4.6</td>\n",
       "      <td>3.1</td>\n",
       "      <td>1.5</td>\n",
       "      <td>0.2</td>\n",
       "    </tr>\n",
       "    <tr>\n",
       "      <th>5</th>\n",
       "      <td>5.0</td>\n",
       "      <td>3.6</td>\n",
       "      <td>1.4</td>\n",
       "      <td>0.2</td>\n",
       "    </tr>\n",
       "  </tbody>\n",
       "</table>\n",
       "</div>"
      ],
      "text/plain": [
       "   Sepal.Length  Sepal.Width  Petal.Length  Petal.Width\n",
       "1           5.1          3.5           1.4          0.2\n",
       "2           4.9          3.0           1.4          0.2\n",
       "3           4.7          3.2           1.3          0.2\n",
       "4           4.6          3.1           1.5          0.2\n",
       "5           5.0          3.6           1.4          0.2"
      ]
     },
     "execution_count": 46,
     "metadata": {},
     "output_type": "execute_result"
    }
   ],
   "source": [
    "iris_X = iris.drop('Species', axis=1)\n",
    "iris_X.head(5)"
   ]
  },
  {
   "cell_type": "markdown",
   "metadata": {},
   "source": [
    "### Part 4\n",
    "\n",
    "Use your K-Means++ algorithm to cluster the above two variables into 2, 3, 4, and 5 clusters."
   ]
  },
  {
   "cell_type": "code",
   "execution_count": 84,
   "metadata": {
    "collapsed": false
   },
   "outputs": [
    {
     "data": {
      "text/plain": [
       "[(array([ 6.30103093,  2.88659794,  4.95876289,  1.69587629]),\n",
       "  [array([ 7. ,  3.2,  4.7,  1.4]),\n",
       "   array([ 6.4,  3.2,  4.5,  1.5]),\n",
       "   array([ 6.9,  3.1,  4.9,  1.5]),\n",
       "   array([ 5.5,  2.3,  4. ,  1.3]),\n",
       "   array([ 6.5,  2.8,  4.6,  1.5]),\n",
       "   array([ 5.7,  2.8,  4.5,  1.3]),\n",
       "   array([ 6.3,  3.3,  4.7,  1.6]),\n",
       "   array([ 6.6,  2.9,  4.6,  1.3]),\n",
       "   array([ 5.2,  2.7,  3.9,  1.4]),\n",
       "   array([ 5. ,  2. ,  3.5,  1. ]),\n",
       "   array([ 5.9,  3. ,  4.2,  1.5]),\n",
       "   array([ 6. ,  2.2,  4. ,  1. ]),\n",
       "   array([ 6.1,  2.9,  4.7,  1.4]),\n",
       "   array([ 5.6,  2.9,  3.6,  1.3]),\n",
       "   array([ 6.7,  3.1,  4.4,  1.4]),\n",
       "   array([ 5.6,  3. ,  4.5,  1.5]),\n",
       "   array([ 5.8,  2.7,  4.1,  1. ]),\n",
       "   array([ 6.2,  2.2,  4.5,  1.5]),\n",
       "   array([ 5.6,  2.5,  3.9,  1.1]),\n",
       "   array([ 5.9,  3.2,  4.8,  1.8]),\n",
       "   array([ 6.1,  2.8,  4. ,  1.3]),\n",
       "   array([ 6.3,  2.5,  4.9,  1.5]),\n",
       "   array([ 6.1,  2.8,  4.7,  1.2]),\n",
       "   array([ 6.4,  2.9,  4.3,  1.3]),\n",
       "   array([ 6.6,  3. ,  4.4,  1.4]),\n",
       "   array([ 6.8,  2.8,  4.8,  1.4]),\n",
       "   array([ 6.7,  3. ,  5. ,  1.7]),\n",
       "   array([ 6. ,  2.9,  4.5,  1.5]),\n",
       "   array([ 5.7,  2.6,  3.5,  1. ]),\n",
       "   array([ 5.5,  2.4,  3.8,  1.1]),\n",
       "   array([ 5.5,  2.4,  3.7,  1. ]),\n",
       "   array([ 5.8,  2.7,  3.9,  1.2]),\n",
       "   array([ 6. ,  2.7,  5.1,  1.6]),\n",
       "   array([ 5.4,  3. ,  4.5,  1.5]),\n",
       "   array([ 6. ,  3.4,  4.5,  1.6]),\n",
       "   array([ 6.7,  3.1,  4.7,  1.5]),\n",
       "   array([ 6.3,  2.3,  4.4,  1.3]),\n",
       "   array([ 5.6,  3. ,  4.1,  1.3]),\n",
       "   array([ 5.5,  2.5,  4. ,  1.3]),\n",
       "   array([ 5.5,  2.6,  4.4,  1.2]),\n",
       "   array([ 6.1,  3. ,  4.6,  1.4]),\n",
       "   array([ 5.8,  2.6,  4. ,  1.2]),\n",
       "   array([ 5.6,  2.7,  4.2,  1.3]),\n",
       "   array([ 5.7,  3. ,  4.2,  1.2]),\n",
       "   array([ 5.7,  2.9,  4.2,  1.3]),\n",
       "   array([ 6.2,  2.9,  4.3,  1.3]),\n",
       "   array([ 5.7,  2.8,  4.1,  1.3]),\n",
       "   array([ 6.3,  3.3,  6. ,  2.5]),\n",
       "   array([ 5.8,  2.7,  5.1,  1.9]),\n",
       "   array([ 7.1,  3. ,  5.9,  2.1]),\n",
       "   array([ 6.3,  2.9,  5.6,  1.8]),\n",
       "   array([ 6.5,  3. ,  5.8,  2.2]),\n",
       "   array([ 7.6,  3. ,  6.6,  2.1]),\n",
       "   array([ 4.9,  2.5,  4.5,  1.7]),\n",
       "   array([ 7.3,  2.9,  6.3,  1.8]),\n",
       "   array([ 6.7,  2.5,  5.8,  1.8]),\n",
       "   array([ 7.2,  3.6,  6.1,  2.5]),\n",
       "   array([ 6.5,  3.2,  5.1,  2. ]),\n",
       "   array([ 6.4,  2.7,  5.3,  1.9]),\n",
       "   array([ 6.8,  3. ,  5.5,  2.1]),\n",
       "   array([ 5.7,  2.5,  5. ,  2. ]),\n",
       "   array([ 5.8,  2.8,  5.1,  2.4]),\n",
       "   array([ 6.4,  3.2,  5.3,  2.3]),\n",
       "   array([ 6.5,  3. ,  5.5,  1.8]),\n",
       "   array([ 7.7,  3.8,  6.7,  2.2]),\n",
       "   array([ 7.7,  2.6,  6.9,  2.3]),\n",
       "   array([ 6. ,  2.2,  5. ,  1.5]),\n",
       "   array([ 6.9,  3.2,  5.7,  2.3]),\n",
       "   array([ 5.6,  2.8,  4.9,  2. ]),\n",
       "   array([ 7.7,  2.8,  6.7,  2. ]),\n",
       "   array([ 6.3,  2.7,  4.9,  1.8]),\n",
       "   array([ 6.7,  3.3,  5.7,  2.1]),\n",
       "   array([ 7.2,  3.2,  6. ,  1.8]),\n",
       "   array([ 6.2,  2.8,  4.8,  1.8]),\n",
       "   array([ 6.1,  3. ,  4.9,  1.8]),\n",
       "   array([ 6.4,  2.8,  5.6,  2.1]),\n",
       "   array([ 7.2,  3. ,  5.8,  1.6]),\n",
       "   array([ 7.4,  2.8,  6.1,  1.9]),\n",
       "   array([ 7.9,  3.8,  6.4,  2. ]),\n",
       "   array([ 6.4,  2.8,  5.6,  2.2]),\n",
       "   array([ 6.3,  2.8,  5.1,  1.5]),\n",
       "   array([ 6.1,  2.6,  5.6,  1.4]),\n",
       "   array([ 7.7,  3. ,  6.1,  2.3]),\n",
       "   array([ 6.3,  3.4,  5.6,  2.4]),\n",
       "   array([ 6.4,  3.1,  5.5,  1.8]),\n",
       "   array([ 6. ,  3. ,  4.8,  1.8]),\n",
       "   array([ 6.9,  3.1,  5.4,  2.1]),\n",
       "   array([ 6.7,  3.1,  5.6,  2.4]),\n",
       "   array([ 6.9,  3.1,  5.1,  2.3]),\n",
       "   array([ 5.8,  2.7,  5.1,  1.9]),\n",
       "   array([ 6.8,  3.2,  5.9,  2.3]),\n",
       "   array([ 6.7,  3.3,  5.7,  2.5]),\n",
       "   array([ 6.7,  3. ,  5.2,  2.3]),\n",
       "   array([ 6.3,  2.5,  5. ,  1.9]),\n",
       "   array([ 6.5,  3. ,  5.2,  2. ]),\n",
       "   array([ 6.2,  3.4,  5.4,  2.3]),\n",
       "   array([ 5.9,  3. ,  5.1,  1.8])]),\n",
       " (array([ 5.00566038,  3.36981132,  1.56037736,  0.29056604]),\n",
       "  [array([ 5.1,  3.5,  1.4,  0.2]),\n",
       "   array([ 4.9,  3. ,  1.4,  0.2]),\n",
       "   array([ 4.7,  3.2,  1.3,  0.2]),\n",
       "   array([ 4.6,  3.1,  1.5,  0.2]),\n",
       "   array([ 5. ,  3.6,  1.4,  0.2]),\n",
       "   array([ 5.4,  3.9,  1.7,  0.4]),\n",
       "   array([ 4.6,  3.4,  1.4,  0.3]),\n",
       "   array([ 5. ,  3.4,  1.5,  0.2]),\n",
       "   array([ 4.4,  2.9,  1.4,  0.2]),\n",
       "   array([ 4.9,  3.1,  1.5,  0.1]),\n",
       "   array([ 5.4,  3.7,  1.5,  0.2]),\n",
       "   array([ 4.8,  3.4,  1.6,  0.2]),\n",
       "   array([ 4.8,  3. ,  1.4,  0.1]),\n",
       "   array([ 4.3,  3. ,  1.1,  0.1]),\n",
       "   array([ 5.8,  4. ,  1.2,  0.2]),\n",
       "   array([ 5.7,  4.4,  1.5,  0.4]),\n",
       "   array([ 5.4,  3.9,  1.3,  0.4]),\n",
       "   array([ 5.1,  3.5,  1.4,  0.3]),\n",
       "   array([ 5.7,  3.8,  1.7,  0.3]),\n",
       "   array([ 5.1,  3.8,  1.5,  0.3]),\n",
       "   array([ 5.4,  3.4,  1.7,  0.2]),\n",
       "   array([ 5.1,  3.7,  1.5,  0.4]),\n",
       "   array([ 4.6,  3.6,  1. ,  0.2]),\n",
       "   array([ 5.1,  3.3,  1.7,  0.5]),\n",
       "   array([ 4.8,  3.4,  1.9,  0.2]),\n",
       "   array([ 5. ,  3. ,  1.6,  0.2]),\n",
       "   array([ 5. ,  3.4,  1.6,  0.4]),\n",
       "   array([ 5.2,  3.5,  1.5,  0.2]),\n",
       "   array([ 5.2,  3.4,  1.4,  0.2]),\n",
       "   array([ 4.7,  3.2,  1.6,  0.2]),\n",
       "   array([ 4.8,  3.1,  1.6,  0.2]),\n",
       "   array([ 5.4,  3.4,  1.5,  0.4]),\n",
       "   array([ 5.2,  4.1,  1.5,  0.1]),\n",
       "   array([ 5.5,  4.2,  1.4,  0.2]),\n",
       "   array([ 4.9,  3.1,  1.5,  0.2]),\n",
       "   array([ 5. ,  3.2,  1.2,  0.2]),\n",
       "   array([ 5.5,  3.5,  1.3,  0.2]),\n",
       "   array([ 4.9,  3.6,  1.4,  0.1]),\n",
       "   array([ 4.4,  3. ,  1.3,  0.2]),\n",
       "   array([ 5.1,  3.4,  1.5,  0.2]),\n",
       "   array([ 5. ,  3.5,  1.3,  0.3]),\n",
       "   array([ 4.5,  2.3,  1.3,  0.3]),\n",
       "   array([ 4.4,  3.2,  1.3,  0.2]),\n",
       "   array([ 5. ,  3.5,  1.6,  0.6]),\n",
       "   array([ 5.1,  3.8,  1.9,  0.4]),\n",
       "   array([ 4.8,  3. ,  1.4,  0.3]),\n",
       "   array([ 5.1,  3.8,  1.6,  0.2]),\n",
       "   array([ 4.6,  3.2,  1.4,  0.2]),\n",
       "   array([ 5.3,  3.7,  1.5,  0.2]),\n",
       "   array([ 5. ,  3.3,  1.4,  0.2]),\n",
       "   array([ 4.9,  2.4,  3.3,  1. ]),\n",
       "   array([ 5. ,  2.3,  3.3,  1. ]),\n",
       "   array([ 5.1,  2.5,  3. ,  1.1])])]"
      ]
     },
     "execution_count": 84,
     "metadata": {},
     "output_type": "execute_result"
    }
   ],
   "source": [
    "from kmeanspp import KMeansPP\n",
    "\n",
    "model = KMeansPP(iris_X, 2)\n",
    "clusters_2 = model.run()\n",
    "list(clusters_2)"
   ]
  },
  {
   "cell_type": "code",
   "execution_count": null,
   "metadata": {
    "collapsed": true
   },
   "outputs": [],
   "source": [
    "model = KMeansPP(iris_X, 3)\n",
    "clusters_3 = model.run()\n",
    "clusters_3"
   ]
  },
  {
   "cell_type": "markdown",
   "metadata": {},
   "source": [
    "# Problem 2: Spectral Clustering\n",
    "\n",
    "Spectral clustering, as described in class, is a powerful and much-used algorithm. A very in-depth tutorial can be found here: http://www.cs.cmu.edu/~aarti/Class/10701/readings/Luxburg06_TR.pdf. In class we discussed the application of spectral clustering to a given graph. But we can also apply it to other data sets, by turning them into weighted graphs. This can be done in several ways, but roughly speaking, we convert by means of a similarity function: two nodes have an edge between them with weight equal to their similiarity. Read section 2 of the above tutorial on different ways to create the similiarity graph. Then read section 4 on the different graph clustering algorithms, especically focusing on the one by Ng, Jordan and Weiss (2002). This is the one we discussed in class.\n",
    "\n",
    "### Part 1\n",
    "\n",
    "Implement the Ng, Jordan and Weiss spectral clustering algorithm. You may use basic linear algebra functions, including SVD and eigenvalue decomposition, but do not use `sklearn.cluster.spectral.clustering` or anything similar. Of course, you can use your K-Means algorithm from above for the last step."
   ]
  },
  {
   "cell_type": "code",
   "execution_count": 18,
   "metadata": {
    "collapsed": false
   },
   "outputs": [],
   "source": [
    "def spectral_cluster(sim_graph, k):\n",
    "    # Compute L_sym\n",
    "    L_sym = [[1, 1, 1], [1, 1, 1], [2, 2, 4]]\n",
    "    \n",
    "    # Find first k eigenvectors of L_sym\n",
    "    evals, evects = np.linalg.eig(L_sym)\n",
    "    \n",
    "    # TODO...\n",
    "    \n",
    "spectral_cluster(None, None)"
   ]
  },
  {
   "cell_type": "markdown",
   "metadata": {},
   "source": [
    "### Part 2\n",
    "\n",
    "Write a program that generates N data points uniformly at random on two concentric rings, and then add two-dimensional Gaussian noise of variance $\\sigma_1^2$ and $\\sigma_2^2$ to each point. There are four parameters of interest here: the number of points, the difference in the radii of the two rings, the amount (the variance) of noise added to the internal ring, and the amount of noise added to the external ring."
   ]
  },
  {
   "cell_type": "code",
   "execution_count": null,
   "metadata": {
    "collapsed": true
   },
   "outputs": [],
   "source": []
  },
  {
   "cell_type": "markdown",
   "metadata": {},
   "source": [
    "### Part 3\n",
    "\n",
    "Experiement with the 3 methods of creating similarity functions described in section 2 of the paper. Pick one that you like (clearly state which one), and fixing $N = 500$ and $\\sigma_1 = \\sigma_2 = 1$, and also the radius of the inner ring to be $1$, find the range of the outer ring radius for which spectral clustering, using your chosen similarity function, succeeds in clustering the two different rings. Note that you will be using $k = 2$ in your spectral clustering algorithm."
   ]
  },
  {
   "cell_type": "code",
   "execution_count": null,
   "metadata": {
    "collapsed": true
   },
   "outputs": [],
   "source": []
  },
  {
   "cell_type": "markdown",
   "metadata": {},
   "source": [
    "# Problem 3: Spectral Clustering vs. K-Means\n",
    "\n",
    "### Part 1\n",
    "\n",
    "Load the data from the two-dimenstional `two_moons.csv` and the three-dimensional `linked_chains.csv`. Each row represents a point. Note that the first column gives the ground truth - the cluster identity of each point - and so can be ignored. Plot each in 2d and 3d respectively, so you can see what is going on. "
   ]
  },
  {
   "cell_type": "code",
   "execution_count": 4,
   "metadata": {
    "collapsed": false
   },
   "outputs": [
    {
     "data": {
      "text/html": [
       "<div>\n",
       "<table border=\"1\" class=\"dataframe\">\n",
       "  <thead>\n",
       "    <tr style=\"text-align: right;\">\n",
       "      <th></th>\n",
       "      <th>0</th>\n",
       "      <th>1</th>\n",
       "      <th>2</th>\n",
       "    </tr>\n",
       "  </thead>\n",
       "  <tbody>\n",
       "    <tr>\n",
       "      <th>0</th>\n",
       "      <td>2</td>\n",
       "      <td>0.250844</td>\n",
       "      <td>-0.001121</td>\n",
       "    </tr>\n",
       "    <tr>\n",
       "      <th>1</th>\n",
       "      <td>2</td>\n",
       "      <td>0.221185</td>\n",
       "      <td>0.008294</td>\n",
       "    </tr>\n",
       "    <tr>\n",
       "      <th>2</th>\n",
       "      <td>2</td>\n",
       "      <td>0.257351</td>\n",
       "      <td>-0.052437</td>\n",
       "    </tr>\n",
       "    <tr>\n",
       "      <th>3</th>\n",
       "      <td>2</td>\n",
       "      <td>0.197335</td>\n",
       "      <td>-0.030503</td>\n",
       "    </tr>\n",
       "    <tr>\n",
       "      <th>4</th>\n",
       "      <td>2</td>\n",
       "      <td>0.256422</td>\n",
       "      <td>-0.019958</td>\n",
       "    </tr>\n",
       "  </tbody>\n",
       "</table>\n",
       "</div>"
      ],
      "text/plain": [
       "   0         1         2\n",
       "0  2  0.250844 -0.001121\n",
       "1  2  0.221185  0.008294\n",
       "2  2  0.257351 -0.052437\n",
       "3  2  0.197335 -0.030503\n",
       "4  2  0.256422 -0.019958"
      ]
     },
     "execution_count": 4,
     "metadata": {},
     "output_type": "execute_result"
    }
   ],
   "source": [
    "moons = pd.read_csv('two_moons.csv', header=None)\n",
    "moons.head()"
   ]
  },
  {
   "cell_type": "code",
   "execution_count": 7,
   "metadata": {
    "collapsed": false
   },
   "outputs": [
    {
     "data": {
      "text/plain": [
       "<matplotlib.text.Text at 0x109464518>"
      ]
     },
     "execution_count": 7,
     "metadata": {},
     "output_type": "execute_result"
    },
    {
     "data": {
      "image/png": "[encoded data removed]",
      "text/plain": [
       "<matplotlib.figure.Figure at 0x10942ce80>"
      ]
     },
     "metadata": {},
     "output_type": "display_data"
    }
   ],
   "source": [
    "plt.scatter(moons[1], moons[2])\n",
    "plt.title('Two Moons CSV')"
   ]
  },
  {
   "cell_type": "code",
   "execution_count": 5,
   "metadata": {
    "collapsed": false
   },
   "outputs": [
    {
     "data": {
      "text/html": [
       "<div>\n",
       "<table border=\"1\" class=\"dataframe\">\n",
       "  <thead>\n",
       "    <tr style=\"text-align: right;\">\n",
       "      <th></th>\n",
       "      <th>0</th>\n",
       "      <th>1</th>\n",
       "      <th>2</th>\n",
       "      <th>3</th>\n",
       "    </tr>\n",
       "  </thead>\n",
       "  <tbody>\n",
       "    <tr>\n",
       "      <th>0</th>\n",
       "      <td>1</td>\n",
       "      <td>-0.424914</td>\n",
       "      <td>-0.879778</td>\n",
       "      <td>0.019944</td>\n",
       "    </tr>\n",
       "    <tr>\n",
       "      <th>1</th>\n",
       "      <td>1</td>\n",
       "      <td>0.609164</td>\n",
       "      <td>-0.851496</td>\n",
       "      <td>0.018148</td>\n",
       "    </tr>\n",
       "    <tr>\n",
       "      <th>2</th>\n",
       "      <td>1</td>\n",
       "      <td>0.370662</td>\n",
       "      <td>0.258447</td>\n",
       "      <td>-0.002878</td>\n",
       "    </tr>\n",
       "    <tr>\n",
       "      <th>3</th>\n",
       "      <td>1</td>\n",
       "      <td>0.087514</td>\n",
       "      <td>0.347741</td>\n",
       "      <td>0.004298</td>\n",
       "    </tr>\n",
       "    <tr>\n",
       "      <th>4</th>\n",
       "      <td>1</td>\n",
       "      <td>0.488615</td>\n",
       "      <td>-0.911575</td>\n",
       "      <td>0.033750</td>\n",
       "    </tr>\n",
       "  </tbody>\n",
       "</table>\n",
       "</div>"
      ],
      "text/plain": [
       "   0         1         2         3\n",
       "0  1 -0.424914 -0.879778  0.019944\n",
       "1  1  0.609164 -0.851496  0.018148\n",
       "2  1  0.370662  0.258447 -0.002878\n",
       "3  1  0.087514  0.347741  0.004298\n",
       "4  1  0.488615 -0.911575  0.033750"
      ]
     },
     "execution_count": 5,
     "metadata": {},
     "output_type": "execute_result"
    }
   ],
   "source": [
    "chains = pd.read_csv('linked_chains.csv', header=None)\n",
    "chains.head()"
   ]
  },
  {
   "cell_type": "code",
   "execution_count": 10,
   "metadata": {
    "collapsed": false
   },
   "outputs": [
    {
     "name": "stderr",
     "output_type": "stream",
     "text": [
      "/Users/rohannagar/anaconda/lib/python3.5/site-packages/matplotlib/figure.py:397: UserWarning: matplotlib is currently using a non-GUI backend, so cannot show the figure\n",
      "  \"matplotlib is currently using a non-GUI backend, \"\n"
     ]
    },
    {
     "data": {
      "image/png": "[encoded data removed]",
      "text/plain": [
       "<matplotlib.figure.Figure at 0x109fb1908>"
      ]
     },
     "metadata": {},
     "output_type": "display_data"
    }
   ],
   "source": [
    "fig = plt.figure()\n",
    "ax = fig.add_subplot(111, projection='3d')\n",
    "ax.scatter(chains[1], chains[2], chains[3], label='Linked Chains')\n",
    "plt.title('Linked Chains')\n",
    "fig.show()"
   ]
  },
  {
   "cell_type": "markdown",
   "metadata": {},
   "source": [
    "### Part 2\n",
    "\n",
    "Run K-Means on both. How do you do?"
   ]
  },
  {
   "cell_type": "code",
   "execution_count": null,
   "metadata": {
    "collapsed": true
   },
   "outputs": [],
   "source": []
  },
  {
   "cell_type": "markdown",
   "metadata": {},
   "source": [
    "### Part 3\n",
    "\n",
    "Find the best similarity function you can, and run Spectral Clustering. Which is better?"
   ]
  },
  {
   "cell_type": "code",
   "execution_count": null,
   "metadata": {
    "collapsed": true
   },
   "outputs": [],
   "source": []
  },
  {
   "cell_type": "markdown",
   "metadata": {},
   "source": [
    "# Problem 4: More Spectral Clustering vs. K-Means\n",
    "\n",
    "### Part 1\n",
    "\n",
    "Generate an example where K-Means does better than Spectral Clustering. Explain how you constructed it and why, in addition to showing the plots."
   ]
  },
  {
   "cell_type": "code",
   "execution_count": null,
   "metadata": {
    "collapsed": true
   },
   "outputs": [],
   "source": []
  },
  {
   "cell_type": "markdown",
   "metadata": {},
   "source": [
    "# Problem 5: Computational Complexity and Spectral Clustering\n",
    "\n",
    "### Part 1\n",
    "\n",
    "This is a more open ended question. Computing the eigenvalues and eigenvectors of a matrix is not easy, and the complexity depends on the size of the matrix among other factors. An important factor is the sparsity of the matrix. Which aspects of your algorithm for spectral clustering could affect this? Using one of the examples from above, or another example of your choosing, try to illustrate this pheonomeon."
   ]
  },
  {
   "cell_type": "code",
   "execution_count": null,
   "metadata": {
    "collapsed": true
   },
   "outputs": [],
   "source": []
  }
 ],
 "metadata": {
  "anaconda-cloud": {},
  "kernelspec": {
   "display_name": "Python [Root]",
   "language": "python",
   "name": "Python [Root]"
  },
  "language_info": {
   "codemirror_mode": {
    "name": "ipython",
    "version": 3
   },
   "file_extension": ".py",
   "mimetype": "text/x-python",
   "name": "python",
   "nbconvert_exporter": "python",
   "pygments_lexer": "ipython3",
   "version": "3.5.2"
  }
 },
 "nbformat": 4,
 "nbformat_minor": 0
}
